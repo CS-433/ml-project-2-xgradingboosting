{
 "cells": [
  {
   "cell_type": "markdown",
   "metadata": {},
   "source": [
    "# Historical Predictions\n",
    "This notebook contains the code for the Historical Predictions."
   ]
  },
  {
   "cell_type": "code",
   "execution_count": null,
   "metadata": {},
   "outputs": [],
   "source": [
    "cd .."
   ]
  },
  {
   "cell_type": "code",
   "execution_count": null,
   "metadata": {},
   "outputs": [],
   "source": [
    "from lib import estimator_util as eu\n",
    "from sklearn.model_selection import LeaveOneOut\n",
    "from sklearn.preprocessing import StandardScaler\n",
    "from sklearn.linear_model import Ridge\n",
    "from catboost import CatBoostRegressor\n",
    "import matplotlib.pyplot as plt\n",
    "import numpy as np\n",
    "import pandas as pd\n",
    "import seaborn as sns\n",
    "import string"
   ]
  },
  {
   "cell_type": "code",
   "execution_count": null,
   "metadata": {},
   "outputs": [],
   "source": [
    "sns.set_theme()"
   ]
  },
  {
   "cell_type": "code",
   "execution_count": null,
   "metadata": {},
   "outputs": [],
   "source": [
    "complete_df, all_cols = eu.get_data(\"../data/lsms/processed/_all_nominal.csv\", \"../data/cnn_features/resnet_trans_all_countries_hyper.csv\", \"../data/\")"
   ]
  },
  {
   "cell_type": "markdown",
   "metadata": {},
   "source": [
    "## All Countries\n",
    "Historical future and past predictions for all countries."
   ]
  },
  {
   "cell_type": "code",
   "execution_count": null,
   "metadata": {},
   "outputs": [],
   "source": [
    "def all_year_run(complete_df, model, **params):\n",
    "    countries = complete_df.groupby([\"country\"]).groups.keys()\n",
    "    base_year = []\n",
    "    year_ = []\n",
    "    r2 = []\n",
    "    country_ = []\n",
    "    for country in countries:\n",
    "        years = complete_df.loc[complete_df[\"country\"] == country].groupby([\"year\"]).groups.keys()\n",
    "        for year in years:\n",
    "            for x_year in years:\n",
    "                X_base, y_base = eu.get_features(complete_df, [country], [year], all_cols)\n",
    "                if year == x_year:\n",
    "                    r, _,_, m = eu.run_model(X_base, y_base, model, **params)\n",
    "                    country_.append(country)\n",
    "                    base_year.append(year)\n",
    "                    year_.append(x_year)\n",
    "                    r2.append(r)\n",
    "                    continue\n",
    "                infl = eu.get_inflation_perf(country, year, x_year)\n",
    "                X, y = eu.get_features(complete_df, [country], [x_year], all_cols, infl=infl, pca_comp_cnn=5)\n",
    "                n = len(X_base)\n",
    "                X = StandardScaler().fit_transform(X)\n",
    "                r, y_predicted, m = eu.run_model_out(X_base, y_base, X, y, model, **params)\n",
    "                country_.append(country)\n",
    "                base_year.append(year)\n",
    "                year_.append(x_year)\n",
    "                r2.append(r)\n",
    "    return pd.DataFrame.from_dict({\"Country\": country_,\"Train Year\": base_year, \"Eval Year\": year_, \"r2\": r2})\n",
    "        "
   ]
  },
  {
   "attachments": {},
   "cell_type": "markdown",
   "metadata": {},
   "source": [
    "### Prediction with Ridge"
   ]
  },
  {
   "cell_type": "code",
   "execution_count": null,
   "metadata": {},
   "outputs": [],
   "source": [
    "all_year_run(complete_df, Ridge, alpha = 1000)"
   ]
  },
  {
   "attachments": {},
   "cell_type": "markdown",
   "metadata": {},
   "source": [
    "### Prediction with CatBoost"
   ]
  },
  {
   "cell_type": "code",
   "execution_count": null,
   "metadata": {},
   "outputs": [],
   "source": [
    "all_year_run(complete_df, CatBoostRegressor, random_state=42)"
   ]
  },
  {
   "cell_type": "markdown",
   "metadata": {},
   "source": [
    "## Leave-one-out"
   ]
  },
  {
   "cell_type": "code",
   "execution_count": null,
   "metadata": {},
   "outputs": [],
   "source": [
    "def leave_one_out_time_prediction(df, osm_cols, model, **params) :\n",
    "    countries = [\"ETH\", \"NG\"]\n",
    "    for country in countries:\n",
    "        print(f\"======{country}=====\")\n",
    "        years = list(df.loc[df[\"country\"] == country].groupby([\"year\"]).groups.keys())\n",
    "        print(years)\n",
    "        loo = LeaveOneOut()\n",
    "        X_ = None\n",
    "        y_ = None\n",
    "        for year, x_year in loo.split(years):\n",
    "            for y in year:\n",
    "                infl = eu.get_inflation_perf(country, 2010, years[y])\n",
    "                X_base, y_base = eu.get_features(df, [country], [years[y]], osm_cols, infl)\n",
    "                \n",
    "                if X_ is None:\n",
    "                    X_ = X_base\n",
    "                else:\n",
    "                    X_ = np.vstack((X_, X_base))\n",
    "                \n",
    "                if y_ is None:\n",
    "                    y_ = y_base\n",
    "                else:\n",
    "                    y_ = np.append(y_, y_base)\n",
    "\n",
    "            infl = eu.get_inflation_perf(country, 2010, years[x_year[0]])\n",
    "            X, y = eu.get_features(df, [country], [years[x_year[0]]], osm_cols, infl=infl)\n",
    "            X_ = StandardScaler().fit_transform(X_)\n",
    "            X = StandardScaler().fit_transform(X)\n",
    "            r, y_hest, m = eu.run_model_out(X_, y_, X, y, model, **params)\n",
    "            print(f\"Predicting: {years[x_year[0]]}\")\n",
    "            print(r)"
   ]
  },
  {
   "attachments": {},
   "cell_type": "markdown",
   "metadata": {},
   "source": [
    "### with Ridge for comparison"
   ]
  },
  {
   "cell_type": "code",
   "execution_count": null,
   "metadata": {},
   "outputs": [],
   "source": [
    "leave_one_out_time_prediction(complete_df, all_cols, Ridge, alpha=1000)"
   ]
  },
  {
   "attachments": {},
   "cell_type": "markdown",
   "metadata": {},
   "source": [
    "### with CatBoost for best model"
   ]
  },
  {
   "cell_type": "code",
   "execution_count": null,
   "metadata": {},
   "outputs": [],
   "source": [
    "leave_one_out_time_prediction(complete_df, all_cols, CatBoostRegressor, task_type=\"GPU\", random_state=42)"
   ]
  },
  {
   "cell_type": "markdown",
   "metadata": {},
   "source": [
    "## Pooled Dataset\n",
    "Predictions for whole dataset. Consumption is scaled to base year 2010."
   ]
  },
  {
   "cell_type": "code",
   "execution_count": null,
   "metadata": {},
   "outputs": [],
   "source": [
    "def combined_time_travel(df, osm_cols, model, **params) :\n",
    "    countries = [[\"NG\"], [\"ETH\"] ,[\"TZA\"], [\"MW\"], [\"NG\", \"ETH\", \"TZA\", \"MW\"]]\n",
    "    results = np.zeros((5,5))\n",
    "    for i, country in enumerate(countries):\n",
    "        X, y = eu.get_features_allyears(df, country, osm_cols)\n",
    "        for j, out_country in enumerate(countries):\n",
    "            X_out, y_out = eu.get_features_allyears(df,out_country, osm_cols)\n",
    "            r, _, _= eu.run_model_out(X, y, X_out, y_out, model, **params)\n",
    "            results[i,j] = r\n",
    "\n",
    "    countries = [\"Nigeria\", \"Ethiopia\" ,\"Tanzania\", \"Malawi\", \"Pooled\"]\n",
    "    df_cm = pd.DataFrame(results, index = countries, columns = countries)\n",
    "    fig = plt.figure(figsize = (10,7))\n",
    "    sns.heatmap(df_cm, annot=True, cbar_kws={'label': r'$r^2$'})\n",
    "    plt.xlabel(\"Country trained on\")\n",
    "    plt.ylabel(\"Country evaluated on\")\n",
    "    plt.title(\"Heatmap of the cross country predictions with \" + model.__name__)\n",
    "    ax = plt.gca()\n",
    "    plt.text(-0.1, 1.1, string.ascii_uppercase[0], size=20, weight='bold', transform=ax.transAxes)\n",
    "    return fig"
   ]
  },
  {
   "cell_type": "code",
   "execution_count": null,
   "metadata": {},
   "outputs": [],
   "source": [
    "fig = combined_time_travel(complete_df, all_cols, Ridge, alpha=1000)\n",
    "fig.savefig(\"../figs/cross_country_pooled_timetravel_ridge.pdf\", dpi=600, bbox_inches=\"tight\")"
   ]
  },
  {
   "attachments": {},
   "cell_type": "markdown",
   "metadata": {},
   "source": [
    "### with CatBoost"
   ]
  },
  {
   "cell_type": "code",
   "execution_count": null,
   "metadata": {},
   "outputs": [],
   "source": [
    "fig = combined_time_travel(complete_df, all_cols, CatBoostRegressor, task_type=\"GPU\", random_state=42)\n",
    "fig.savefig(\"../figs/cross_country_pooled_timetravel_catboost.pdf\", dpi=600, bbox_inches=\"tight\")"
   ]
  },
  {
   "attachments": {},
   "cell_type": "markdown",
   "metadata": {},
   "source": [
    "# Plot pooled combined"
   ]
  },
  {
   "cell_type": "code",
   "execution_count": null,
   "metadata": {},
   "outputs": [],
   "source": [
    "def plot_pooled_combined_time_travel(complete_df, all_cols, model, **params) :\n",
    "    country = [\"NG\", \"ETH\", \"TZA\", \"MW\"]\n",
    "    X, y = eu.get_features_allyears(complete_df, country, all_cols)\n",
    "    r, _, _, m = eu.run_model(X, y, model, **params)\n",
    "    y_pred = m.predict(X)\n",
    "    eu.plot_predictions(y, y_pred, r, \"Pooled\", \"Timetravel\")\n",
    "    "
   ]
  },
  {
   "attachments": {},
   "cell_type": "markdown",
   "metadata": {},
   "source": [
    "### with Ridge"
   ]
  },
  {
   "cell_type": "code",
   "execution_count": null,
   "metadata": {},
   "outputs": [],
   "source": [
    "plot_pooled_combined_time_travel(complete_df, all_cols, Ridge, alpha = 1000)"
   ]
  },
  {
   "attachments": {},
   "cell_type": "markdown",
   "metadata": {},
   "source": [
    "### with CatBoost"
   ]
  },
  {
   "cell_type": "code",
   "execution_count": null,
   "metadata": {},
   "outputs": [],
   "source": [
    "plot_pooled_combined_time_travel(complete_df, all_cols, CatBoostRegressor, task_type=\"GPU\", random_state=42)"
   ]
  },
  {
   "cell_type": "code",
   "execution_count": null,
   "outputs": [],
   "source": [],
   "metadata": {
    "collapsed": false
   }
  }
 ],
 "metadata": {
  "kernelspec": {
   "display_name": "poverty",
   "language": "python",
   "name": "python3"
  },
  "language_info": {
   "codemirror_mode": {
    "name": "ipython",
    "version": 3
   },
   "file_extension": ".py",
   "mimetype": "text/x-python",
   "name": "python",
   "nbconvert_exporter": "python",
   "pygments_lexer": "ipython3",
   "version": "3.9.15"
  },
  "orig_nbformat": 4,
  "vscode": {
   "interpreter": {
    "hash": "d2112bbd353a4cc226a168d96bd2d7e9ef99ccd2a6ea6faac2b390336082e042"
   }
  }
 },
 "nbformat": 4,
 "nbformat_minor": 2
}
