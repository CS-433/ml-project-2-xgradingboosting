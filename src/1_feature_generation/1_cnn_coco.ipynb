{
 "cells": [
  {
   "cell_type": "markdown",
   "metadata": {},
   "source": [
    "# Hyperspectral CNN\n",
    "\n",
    "This code is to train the Hyperspectral CNN. Warning: You need at least 18GB of RAM, to process the TfRecords."
   ]
  },
  {
   "cell_type": "code",
   "execution_count": 1,
   "metadata": {},
   "outputs": [
    {
     "name": "stdout",
     "output_type": "stream",
     "text": [
      "/home/sallinen/Programmation/predicting-poverty-through-time/src\n"
     ]
    }
   ],
   "source": [
    "cd .."
   ]
  },
  {
   "cell_type": "code",
   "execution_count": 2,
   "metadata": {},
   "outputs": [],
   "source": [
    "%load_ext autoreload\n",
    "%autoreload 2\n",
    "\n",
    "%matplotlib inline\n",
    "\n",
    "from lib.tfrecordhelper import TfrecordHelper\n",
    "from sklearn.mixture import GaussianMixture as GMM\n",
    "from torch.optim import lr_scheduler\n",
    "from torch.utils.data import Dataset, DataLoader\n",
    "from torch.utils.data.sampler import SubsetRandomSampler\n",
    "from torchvision import transforms\n",
    "from tqdm.notebook import tqdm\n",
    "\n",
    "import copy\n",
    "import numpy as np\n",
    "import os\n",
    "import pandas as pd\n",
    "import time\n",
    "import torch\n",
    "import torch.nn as nn\n",
    "import torch.optim as optim\n",
    "import matplotlib.pyplot as plt"
   ]
  },
  {
   "cell_type": "code",
   "execution_count": 3,
   "outputs": [],
   "source": [
    "#added for reproducibility\n",
    "torch.manual_seed(2)\n",
    "np.random.seed(0)\n",
    "import random\n",
    "random.seed(0)\n",
    "torch.use_deterministic_algorithms(True)\n",
    "if torch.cuda.is_available():\n",
    "    torch.cuda.manual_seed(2)"
   ],
   "metadata": {
    "collapsed": false
   }
  },
  {
   "cell_type": "markdown",
   "metadata": {},
   "source": [
    "## Load data and preprocess"
   ]
  },
  {
   "cell_type": "code",
   "execution_count": 4,
   "metadata": {},
   "outputs": [],
   "source": [
    "def load_dataset(path: str):\n",
    "    \"\"\"\n",
    "    Helper to load dataset\n",
    "\n",
    "    Args:\n",
    "    - path (str): Path to dataset\n",
    "\n",
    "    Returns:\n",
    "    - dic which contains all data\n",
    "    \"\"\"\n",
    "    tf_helper = TfrecordHelper(path, ls_bands=\"ms\", nl_band=\"viirs\")\n",
    "    input_dic = {}\n",
    "    tf_helper.keyword_lat = \"lat\"\n",
    "    tf_helper.keyword_lon = \"lon\"\n",
    "    tf_helper.process_dataset()\n",
    "    for i, feature in enumerate(tf_helper.dataset):\n",
    "        input_dic[i] = {\n",
    "        \"year\": feature[\"years\"].numpy(),\n",
    "        \"cluster_lat\": feature[\"locs\"].numpy()[0],\n",
    "        \"cluster_lon\": feature[\"locs\"].numpy()[1],\n",
    "        \"img\": (feature[\"images\"][:,:,:7].numpy()),\n",
    "        \"nightlight\": np.mean(feature[\"images\"][:,:,7].numpy()),\n",
    "    }\n",
    "    \n",
    "    # Remove data where entry is broken (one channel contains only zeros)\n",
    "    remove = []\n",
    "    for feature in tqdm(input_dic):\n",
    "        if input_dic[feature][\"nightlight\"] == 0:\n",
    "            remove.append(feature)\n",
    "            continue\n",
    "        for dim in input_dic[feature][\"img\"]:\n",
    "            if not np.any(dim):\n",
    "                remove.append(feature)\n",
    "                break\n",
    "    \n",
    "    for r in remove:\n",
    "        input_dic.pop(r)\n",
    "    return input_dic"
   ]
  },
  {
   "cell_type": "code",
   "execution_count": 5,
   "metadata": {},
   "outputs": [],
   "source": [
    "path = \"../data/tfrecords/raw/\"\n",
    "files = os.listdir(path) # path to the processed tfrecords from the previous step"
   ]
  },
  {
   "cell_type": "code",
   "execution_count": 6,
   "metadata": {},
   "outputs": [
    {
     "name": "stderr",
     "output_type": "stream",
     "text": [
      "2022-12-20 20:12:22.164261: I tensorflow/core/platform/cpu_feature_guard.cc:193] This TensorFlow binary is optimized with oneAPI Deep Neural Network Library (oneDNN) to use the following CPU instructions in performance-critical operations:  SSE4.1 SSE4.2 AVX AVX2 AVX512F FMA\n",
      "To enable them in other operations, rebuild TensorFlow with the appropriate compiler flags.\n",
      "2022-12-20 20:12:22.165345: I tensorflow/core/common_runtime/process_util.cc:146] Creating new thread pool with default inter op setting: 2. Tune using inter_op_parallelism_threads for best performance.\n"
     ]
    },
    {
     "data": {
      "text/plain": "  0%|          | 0/781 [00:00<?, ?it/s]",
      "application/vnd.jupyter.widget-view+json": {
       "version_major": 2,
       "version_minor": 0,
       "model_id": "1c1145d665364f52a35d69c51bc1fe90"
      }
     },
     "metadata": {},
     "output_type": "display_data"
    },
    {
     "data": {
      "text/plain": "  0%|          | 0/669 [00:00<?, ?it/s]",
      "application/vnd.jupyter.widget-view+json": {
       "version_major": 2,
       "version_minor": 0,
       "model_id": "dfe7d00c47e8408885f52297fb9fa8dd"
      }
     },
     "metadata": {},
     "output_type": "display_data"
    },
    {
     "data": {
      "text/plain": "  0%|          | 0/419 [00:00<?, ?it/s]",
      "application/vnd.jupyter.widget-view+json": {
       "version_major": 2,
       "version_minor": 0,
       "model_id": "32565e23d30d4242b025b99665b4bd50"
      }
     },
     "metadata": {},
     "output_type": "display_data"
    },
    {
     "data": {
      "text/plain": "  0%|          | 0/503 [00:00<?, ?it/s]",
      "application/vnd.jupyter.widget-view+json": {
       "version_major": 2,
       "version_minor": 0,
       "model_id": "95ac5a5f4a7f4df3988bd89df78a36c0"
      }
     },
     "metadata": {},
     "output_type": "display_data"
    },
    {
     "data": {
      "text/plain": "  0%|          | 0/475 [00:00<?, ?it/s]",
      "application/vnd.jupyter.widget-view+json": {
       "version_major": 2,
       "version_minor": 0,
       "model_id": "9ebf3ac3776f4e20b2bc41db999a7b8d"
      }
     },
     "metadata": {},
     "output_type": "display_data"
    },
    {
     "data": {
      "text/plain": "  0%|          | 0/645 [00:00<?, ?it/s]",
      "application/vnd.jupyter.widget-view+json": {
       "version_major": 2,
       "version_minor": 0,
       "model_id": "87a9ab46f4b54908aec83ae0d8de683d"
      }
     },
     "metadata": {},
     "output_type": "display_data"
    },
    {
     "data": {
      "text/plain": "  0%|          | 0/1611 [00:00<?, ?it/s]",
      "application/vnd.jupyter.widget-view+json": {
       "version_major": 2,
       "version_minor": 0,
       "model_id": "b160e56ed7fd4a728582572b71bbfd20"
      }
     },
     "metadata": {},
     "output_type": "display_data"
    },
    {
     "data": {
      "text/plain": "  0%|          | 0/710 [00:00<?, ?it/s]",
      "application/vnd.jupyter.widget-view+json": {
       "version_major": 2,
       "version_minor": 0,
       "model_id": "6df5dd0193bc46b788de59b4e1c4ce31"
      }
     },
     "metadata": {},
     "output_type": "display_data"
    },
    {
     "data": {
      "text/plain": "  0%|          | 0/516 [00:00<?, ?it/s]",
      "application/vnd.jupyter.widget-view+json": {
       "version_major": 2,
       "version_minor": 0,
       "model_id": "e85db5bf7b2e473fa18c04581b958bfb"
      }
     },
     "metadata": {},
     "output_type": "display_data"
    },
    {
     "data": {
      "text/plain": "  0%|          | 0/525 [00:00<?, ?it/s]",
      "application/vnd.jupyter.widget-view+json": {
       "version_major": 2,
       "version_minor": 0,
       "model_id": "1093bc6c05564e2e974a93a077fe54df"
      }
     },
     "metadata": {},
     "output_type": "display_data"
    }
   ],
   "source": [
    "input_dics = [] # will contain all information\n",
    "for file in files:\n",
    "    raw_path = path + file\n",
    "    data = load_dataset(raw_path)\n",
    "    input_dics.append(data)"
   ]
  },
  {
   "cell_type": "code",
   "execution_count": 7,
   "metadata": {},
   "outputs": [
    {
     "data": {
      "text/plain": "  0%|          | 0/10 [00:00<?, ?it/s]",
      "application/vnd.jupyter.widget-view+json": {
       "version_major": 2,
       "version_minor": 0,
       "model_id": "e4df1922ae194aa2b922195cf9187b1e"
      }
     },
     "metadata": {},
     "output_type": "display_data"
    }
   ],
   "source": [
    "X = []\n",
    "y = []\n",
    "years = []\n",
    "lat = []\n",
    "lon = []\n",
    "for country in tqdm(input_dics):\n",
    "    data = country\n",
    "    for feature in data:\n",
    "        years.append(data[feature][\"year\"])\n",
    "        lat.append(data[feature][\"cluster_lat\"])\n",
    "        lon.append(data[feature][\"cluster_lon\"])\n",
    "        data[feature][\"img\"][:3,:,:] *=3 # RGB images to dark, got better performance by using it\n",
    "        X.append(data[feature][\"img\"])\n",
    "        y.append(data[feature][\"nightlight\"])\n",
    "X = np.array(X)\n",
    "y = np.array(y)"
   ]
  },
  {
   "cell_type": "code",
   "execution_count": 8,
   "metadata": {},
   "outputs": [],
   "source": [
    "means = [np.mean(X[:,i,:,:]) for i in range(7)]\n",
    "stds = [np.std(X[:,i,:,:]) for i in range(7)]\n"
   ]
  },
  {
   "cell_type": "code",
   "execution_count": 9,
   "outputs": [],
   "source": [
    "import lib.clusters_utils as cl\n"
   ],
   "metadata": {
    "collapsed": false
   }
  },
  {
   "cell_type": "code",
   "execution_count": 10,
   "metadata": {},
   "outputs": [],
   "source": [
    "preprocess = transforms.Compose([\n",
    "    transforms.ToTensor(),\n",
    "    transforms.Normalize(mean=means, std=stds)\n",
    "])"
   ]
  },
  {
   "cell_type": "markdown",
   "metadata": {},
   "source": [
    "## Bins for nighttime images"
   ]
  },
  {
   "cell_type": "code",
   "execution_count": 11,
   "metadata": {},
   "outputs": [],
   "source": [
    "def nightlights_to_class(data, model, n_components):\n",
    "    \"\"\"\n",
    "    Data are labels. Perform GMM based on the input and creates 5 classes out of it.\n",
    "\n",
    "    Args:\n",
    "    - data: radiance (nighttime images)\n",
    "\n",
    "    Return:\n",
    "    - list of labels\n",
    "    \"\"\"\n",
    "    x = data.reshape(-1,1)\n",
    "    model_ = model.fit(x)\n",
    "    labels = model_.predict(x)\n",
    "    cutoffs = []\n",
    "    for i in range(n_components):\n",
    "        cutoffs.append(data[labels==i].max())\n",
    "    cutoffs = sorted(cutoffs)\n",
    "    \n",
    "    y_labels = []\n",
    "\n",
    "    for d in data:\n",
    "        for i in range(n_components):\n",
    "            if d <= cutoffs[i]:\n",
    "                y_labels.append(i)\n",
    "                break\n",
    "\n",
    "    return np.array(y_labels)"
   ]
  },
  {
   "cell_type": "code",
   "execution_count": 11,
   "outputs": [],
   "source": [],
   "metadata": {
    "collapsed": false
   }
  },
  {
   "cell_type": "markdown",
   "metadata": {},
   "source": [
    "## Pytorch Dataset"
   ]
  },
  {
   "cell_type": "code",
   "execution_count": 12,
   "metadata": {},
   "outputs": [],
   "source": [
    "class MyDataset(Dataset):\n",
    "    def __init__(self, data, target, transform=None):\n",
    "        self.data = data\n",
    "        self.target = torch.from_numpy(target).long()\n",
    "        self.transform = transform\n",
    "        \n",
    "    def __getitem__(self, index):\n",
    "        x = self.data[index]\n",
    "        y = self.target[index]\n",
    "        if self.transform:\n",
    "            x = self.transform(x) # transpose is required by PyTorch\n",
    "\n",
    "        return x, y\n",
    "    \n",
    "    def __len__(self):\n",
    "        return len(self.data)"
   ]
  },
  {
   "cell_type": "markdown",
   "source": [
    "## CNN"
   ],
   "metadata": {
    "collapsed": false
   }
  },
  {
   "cell_type": "code",
   "execution_count": 13,
   "metadata": {},
   "outputs": [],
   "source": [
    "from torch import Tensor\n",
    "\n",
    "\n",
    "def train_model(model, criterion, optimizer, scheduler, dataloaders, dataset_sizes, device, num_epochs=25):\n",
    "\n",
    "    since = time.time()\n",
    "\n",
    "    best_model_wts = copy.deepcopy(model.state_dict())\n",
    "    best_acc = 0.0\n",
    "\n",
    "    for epoch in range(num_epochs):\n",
    "        print(f'Epoch {epoch}/{num_epochs - 1}')\n",
    "        print('-' * 10)\n",
    "\n",
    "        # Each epoch has a training and validation phase\n",
    "        for phase in ['train', 'val']:\n",
    "            if phase == 'train':\n",
    "                model.train()  # Set model to training mode\n",
    "            else:\n",
    "                model.eval()   # Set model to evaluate mode\n",
    "\n",
    "            running_loss = 0.0\n",
    "            running_corrects = 0\n",
    "\n",
    "            # Iterate over data.\n",
    "            for inputs, labels in dataloaders[phase]:\n",
    "                inputs = inputs.to(device)\n",
    "                labels = labels.to(device)\n",
    "\n",
    "                # zero the parameter gradients\n",
    "                optimizer.zero_grad()\n",
    "\n",
    "                # forward\n",
    "                # track history if only in train\n",
    "                #with torch.set_grad_enabled(phase == 'train'):\n",
    "                outputs = model(inputs)\n",
    "                _, preds = torch.max(outputs, 1)\n",
    "                loss = criterion(outputs, labels)\n",
    "\n",
    "                # backward + optimize only if in training phase\n",
    "                if phase == 'train':\n",
    "                    loss.backward(retain_graph=True)\n",
    "                    optimizer.step()\n",
    "\n",
    "                # statistics\n",
    "                running_loss += loss.item() * inputs.size(0)\n",
    "                running_corrects += torch.sum(preds == labels.data)\n",
    "            if phase == 'train':\n",
    "                scheduler.step()\n",
    "\n",
    "            epoch_loss = running_loss / dataset_sizes[phase]\n",
    "            epoch_acc = running_corrects.double() / dataset_sizes[phase]\n",
    "\n",
    "            print(f'{phase} Loss: {epoch_loss:.4f} Acc: {epoch_acc:.4f}')\n",
    "\n",
    "            # deep copy the model\n",
    "            if phase == 'val' and epoch_acc > best_acc:\n",
    "                best_acc = epoch_acc\n",
    "                best_model_wts = copy.deepcopy(model.state_dict())\n",
    "\n",
    "        print()\n",
    "\n",
    "    time_elapsed = time.time() - since\n",
    "    print(f'Training complete in {time_elapsed // 60:.0f}m {time_elapsed % 60:.0f}s')\n",
    "    print(f'Best val Acc: {best_acc:4f}')\n",
    "\n",
    "    # load best model weights\n",
    "    model.load_state_dict(best_model_wts)\n",
    "    return model, Tensor.cpu(best_acc)"
   ]
  },
  {
   "cell_type": "code",
   "execution_count": 14,
   "outputs": [],
   "source": [
    "def get_model_trained(model, device, dataloaders, dataset_sizes, n_components):\n",
    "    with torch.no_grad():\n",
    "        torch.cuda.empty_cache()\n",
    "\n",
    "    new_input = nn.Conv2d(7, 64, kernel_size=(7,7), stride=(2,2), padding=(3,3), dilation=1, bias=False)\n",
    "    model.conv1 = new_input\n",
    "\n",
    "    #Modify output\n",
    "    model_ft = None\n",
    "\n",
    "    model_ft = model\n",
    "    num_ftrs = model_ft.fc.in_features\n",
    "    model_ft.fc = nn.Linear(num_ftrs, n_components)\n",
    "    model_ft = model_ft.to(device)\n",
    "    criterion = nn.CrossEntropyLoss()\n",
    "    optimizer_ft = optim.SGD(model_ft.parameters(), lr=0.001, momentum=0.9)\n",
    "    exp_lr_scheduler = lr_scheduler.StepLR(optimizer_ft, step_size=7, gamma=0.1)\n",
    "    return train_model(model_ft, criterion, optimizer_ft, exp_lr_scheduler, dataloaders, dataset_sizes, device, num_epochs=19)"
   ],
   "metadata": {
    "collapsed": false
   }
  },
  {
   "cell_type": "markdown",
   "metadata": {},
   "source": [
    "## Extract Weights"
   ]
  },
  {
   "cell_type": "code",
   "execution_count": 15,
   "outputs": [],
   "source": [
    "def extract_weight(model_ft, input_dics):\n",
    "    nmodel = torch.nn.Sequential(*list(model_ft.children())[:-1])\n",
    "    if torch.cuda.is_available():\n",
    "        nmodel.to('cuda')\n",
    "\n",
    "    #Forward pass\n",
    "    for data in input_dics:\n",
    "        for feature in tqdm(data, total=len(data)):\n",
    "            input_batch = preprocess(data[feature]['img']).unsqueeze(0)\n",
    "\n",
    "            with torch.no_grad():\n",
    "                output = nmodel(input_batch.to('cuda'))\n",
    "            data[feature][\"feature\"] = np.squeeze(output.cpu())\n",
    "\n",
    "    #Merge of weight and dataframe\n",
    "    df = pd.DataFrame()\n",
    "    for data in input_dics:\n",
    "        years = []\n",
    "        lat = []\n",
    "        lon = []\n",
    "        features = []\n",
    "        nightlights = []\n",
    "        for feature in tqdm(data, total=len(data)):\n",
    "            years.append(data[feature][\"year\"])\n",
    "            lat.append(data[feature][\"cluster_lat\"])\n",
    "            lon.append(data[feature][\"cluster_lon\"])\n",
    "            features.append(data[feature][\"feature\"].numpy().tolist())\n",
    "            nightlights.append(data[feature][\"nightlight\"])\n",
    "        tmp = pd.DataFrame.from_dict({\"year\": years, \"lat\": lat, 'lon': lon, \"features\": features, \"nightlight\": nightlights})\n",
    "        df = df.append(tmp)\n",
    "    return df"
   ],
   "metadata": {
    "collapsed": false
   }
  },
  {
   "cell_type": "markdown",
   "source": [
    "Merge of weights and dataframe"
   ],
   "metadata": {
    "collapsed": false
   }
  },
  {
   "cell_type": "code",
   "execution_count": 16,
   "outputs": [],
   "source": [
    "def optimize_clusters(X,y, preprocess, n_components, gmm_model):\n",
    "        best_acc = np.zeros(len(n_components))\n",
    "        model = torch.hub.load('pytorch/vision:v0.10.0', 'resnet18', pretrained=True) # load resnet\n",
    "        torch.backends.cudnn.enabled = False\n",
    "        device = torch.device(\"cuda:0\" if torch.cuda.is_available() else \"cpu\")\n",
    "        indices = cl.split_k_sets(2, lat=lat, lon=lon)\n",
    "        for i,k in enumerate(n_components):\n",
    "\n",
    "            y_labels = nightlights_to_class(y,gmm_model(n_components=k, n_init=20, init_params='k-means++', random_state=1), n_components=k)\n",
    "            #Pytorch Dataset\n",
    "            dataset = MyDataset(X, y_labels, preprocess)\n",
    "\n",
    "\n",
    "            train_indices, val_indices = indices[0], indices[1]\n",
    "            train_sampler = SubsetRandomSampler(train_indices)\n",
    "            valid_sampler = SubsetRandomSampler(val_indices)\n",
    "            train_loader = torch.utils.data.DataLoader(dataset, batch_size=128,\n",
    "                                                       sampler=train_sampler)\n",
    "            validation_loader = torch.utils.data.DataLoader(dataset, batch_size=128,\n",
    "                                                            sampler=valid_sampler)\n",
    "            dataloaders = {\n",
    "                \"train\": train_loader,\n",
    "                \"val\": validation_loader\n",
    "            }\n",
    "\n",
    "            dataset_sizes = {\n",
    "                \"train\": len(train_sampler),\n",
    "                \"val\": len(valid_sampler)\n",
    "            }\n",
    "\n",
    "            model_ft, best_acc[i] = get_model_trained(model, device, dataloaders, dataset_sizes, k)\n",
    "\n",
    "            df = extract_weight(model_ft, input_dics)\n",
    "            path = \"../data/cnn_features/resnet_trans_all_countries_hyper_ncomp_\" + str(k) + \".csv\"\n",
    "            df.to_csv(path, index=False)\n",
    "\n",
    "       # plt.plot(n_components, best_acc)\n",
    "        print(n_components)\n",
    "        print(best_acc)"
   ],
   "metadata": {
    "collapsed": false
   }
  },
  {
   "cell_type": "code",
   "execution_count": 17,
   "outputs": [
    {
     "name": "stderr",
     "output_type": "stream",
     "text": [
      "Using cache found in /home/sallinen/.var/app/com.jetbrains.PyCharm-Professional/cache/torch/hub/pytorch_vision_v0.10.0\n",
      "/home/sallinen/miniconda3/envs/predicting-poverty-through-time/lib/python3.10/site-packages/torchvision/models/_utils.py:208: UserWarning: The parameter 'pretrained' is deprecated since 0.13 and may be removed in the future, please use 'weights' instead.\n",
      "  warnings.warn(\n",
      "/home/sallinen/miniconda3/envs/predicting-poverty-through-time/lib/python3.10/site-packages/torchvision/models/_utils.py:223: UserWarning: Arguments other than a weight enum or `None` for 'weights' are deprecated since 0.13 and may be removed in the future. The current behavior is equivalent to passing `weights=ResNet18_Weights.IMAGENET1K_V1`. You can also use `weights=ResNet18_Weights.DEFAULT` to get the most up-to-date weights.\n",
      "  warnings.warn(msg)\n"
     ]
    },
    {
     "name": "stdout",
     "output_type": "stream",
     "text": [
      "Epoch 0/18\n",
      "----------\n",
      "train Loss: 0.9606 Acc: 0.4941\n",
      "val Loss: 1.4938 Acc: 0.4181\n",
      "\n",
      "Epoch 1/18\n",
      "----------\n",
      "train Loss: 0.8292 Acc: 0.5969\n",
      "val Loss: 1.1479 Acc: 0.4487\n",
      "\n",
      "Epoch 2/18\n",
      "----------\n",
      "train Loss: 0.7892 Acc: 0.6198\n",
      "val Loss: 1.0371 Acc: 0.4545\n",
      "\n",
      "Epoch 3/18\n",
      "----------\n",
      "train Loss: 0.7684 Acc: 0.6354\n",
      "val Loss: 1.2680 Acc: 0.3315\n",
      "\n",
      "Epoch 4/18\n",
      "----------\n",
      "train Loss: 0.7354 Acc: 0.6518\n",
      "val Loss: 1.7705 Acc: 0.1310\n",
      "\n",
      "Epoch 5/18\n",
      "----------\n",
      "train Loss: 0.7049 Acc: 0.6687\n",
      "val Loss: 1.6154 Acc: 0.4469\n",
      "\n",
      "Epoch 6/18\n",
      "----------\n",
      "train Loss: 0.6864 Acc: 0.6761\n",
      "val Loss: 1.6530 Acc: 0.4515\n",
      "\n",
      "Epoch 7/18\n",
      "----------\n",
      "train Loss: 0.6421 Acc: 0.7125\n",
      "val Loss: 1.0798 Acc: 0.4597\n",
      "\n",
      "Epoch 8/18\n",
      "----------\n",
      "train Loss: 0.6209 Acc: 0.7196\n",
      "val Loss: 0.9474 Acc: 0.4539\n",
      "\n",
      "Epoch 9/18\n",
      "----------\n",
      "train Loss: 0.6140 Acc: 0.7261\n",
      "val Loss: 0.9510 Acc: 0.5626\n",
      "\n",
      "Epoch 10/18\n",
      "----------\n",
      "train Loss: 0.6006 Acc: 0.7369\n",
      "val Loss: 0.9312 Acc: 0.5280\n",
      "\n",
      "Epoch 11/18\n",
      "----------\n",
      "train Loss: 0.5954 Acc: 0.7383\n",
      "val Loss: 1.4562 Acc: 0.4509\n",
      "\n",
      "Epoch 12/18\n",
      "----------\n",
      "train Loss: 0.5849 Acc: 0.7482\n",
      "val Loss: 1.6510 Acc: 0.4545\n",
      "\n",
      "Epoch 13/18\n",
      "----------\n",
      "train Loss: 0.5819 Acc: 0.7402\n",
      "val Loss: 1.4120 Acc: 0.4527\n",
      "\n",
      "Epoch 14/18\n",
      "----------\n",
      "train Loss: 0.5752 Acc: 0.7473\n",
      "val Loss: 1.0539 Acc: 0.5262\n",
      "\n",
      "Epoch 15/18\n",
      "----------\n",
      "train Loss: 0.5719 Acc: 0.7479\n",
      "val Loss: 0.8129 Acc: 0.6180\n",
      "\n",
      "Epoch 16/18\n",
      "----------\n",
      "train Loss: 0.5706 Acc: 0.7538\n",
      "val Loss: 1.2160 Acc: 0.5605\n",
      "\n",
      "Epoch 17/18\n",
      "----------\n",
      "train Loss: 0.5699 Acc: 0.7558\n",
      "val Loss: 1.2310 Acc: 0.5442\n",
      "\n",
      "Epoch 18/18\n",
      "----------\n",
      "train Loss: 0.5633 Acc: 0.7569\n",
      "val Loss: 1.1415 Acc: 0.5256\n",
      "\n",
      "Training complete in 6m 27s\n",
      "Best val Acc: 0.617998\n"
     ]
    },
    {
     "data": {
      "text/plain": "  0%|          | 0/781 [00:00<?, ?it/s]",
      "application/vnd.jupyter.widget-view+json": {
       "version_major": 2,
       "version_minor": 0,
       "model_id": "677b457087974203884404c30c4091a3"
      }
     },
     "metadata": {},
     "output_type": "display_data"
    },
    {
     "data": {
      "text/plain": "  0%|          | 0/669 [00:00<?, ?it/s]",
      "application/vnd.jupyter.widget-view+json": {
       "version_major": 2,
       "version_minor": 0,
       "model_id": "d207cc59f71b4fa78ee23e380e8801bc"
      }
     },
     "metadata": {},
     "output_type": "display_data"
    },
    {
     "data": {
      "text/plain": "  0%|          | 0/419 [00:00<?, ?it/s]",
      "application/vnd.jupyter.widget-view+json": {
       "version_major": 2,
       "version_minor": 0,
       "model_id": "bb35abc962394c7fb5ab2644cca5a4d7"
      }
     },
     "metadata": {},
     "output_type": "display_data"
    },
    {
     "data": {
      "text/plain": "  0%|          | 0/479 [00:00<?, ?it/s]",
      "application/vnd.jupyter.widget-view+json": {
       "version_major": 2,
       "version_minor": 0,
       "model_id": "9ec7433de1b9484ab2dbbe551dc27df5"
      }
     },
     "metadata": {},
     "output_type": "display_data"
    },
    {
     "data": {
      "text/plain": "  0%|          | 0/475 [00:00<?, ?it/s]",
      "application/vnd.jupyter.widget-view+json": {
       "version_major": 2,
       "version_minor": 0,
       "model_id": "c458071f26a7461d8e24388ab9f1bd72"
      }
     },
     "metadata": {},
     "output_type": "display_data"
    },
    {
     "data": {
      "text/plain": "  0%|          | 0/645 [00:00<?, ?it/s]",
      "application/vnd.jupyter.widget-view+json": {
       "version_major": 2,
       "version_minor": 0,
       "model_id": "2b8195d69d43423d9f030bcae86c90f7"
      }
     },
     "metadata": {},
     "output_type": "display_data"
    },
    {
     "data": {
      "text/plain": "  0%|          | 0/1588 [00:00<?, ?it/s]",
      "application/vnd.jupyter.widget-view+json": {
       "version_major": 2,
       "version_minor": 0,
       "model_id": "861716f354e54988806cec65de5f3933"
      }
     },
     "metadata": {},
     "output_type": "display_data"
    },
    {
     "data": {
      "text/plain": "  0%|          | 0/708 [00:00<?, ?it/s]",
      "application/vnd.jupyter.widget-view+json": {
       "version_major": 2,
       "version_minor": 0,
       "model_id": "b0485689407449b4aec35694674e3e91"
      }
     },
     "metadata": {},
     "output_type": "display_data"
    },
    {
     "data": {
      "text/plain": "  0%|          | 0/516 [00:00<?, ?it/s]",
      "application/vnd.jupyter.widget-view+json": {
       "version_major": 2,
       "version_minor": 0,
       "model_id": "9b85c82d0f884d278622777595ff62f2"
      }
     },
     "metadata": {},
     "output_type": "display_data"
    },
    {
     "data": {
      "text/plain": "  0%|          | 0/525 [00:00<?, ?it/s]",
      "application/vnd.jupyter.widget-view+json": {
       "version_major": 2,
       "version_minor": 0,
       "model_id": "95ad4953428f4144a1f6e602a3adb43a"
      }
     },
     "metadata": {},
     "output_type": "display_data"
    },
    {
     "data": {
      "text/plain": "  0%|          | 0/781 [00:00<?, ?it/s]",
      "application/vnd.jupyter.widget-view+json": {
       "version_major": 2,
       "version_minor": 0,
       "model_id": "416a7aba47c74d859afeb0536b3ae9ef"
      }
     },
     "metadata": {},
     "output_type": "display_data"
    },
    {
     "name": "stderr",
     "output_type": "stream",
     "text": [
      "/tmp/ipykernel_664/3675266627.py:30: FutureWarning: The frame.append method is deprecated and will be removed from pandas in a future version. Use pandas.concat instead.\n",
      "  df = df.append(tmp)\n"
     ]
    },
    {
     "data": {
      "text/plain": "  0%|          | 0/669 [00:00<?, ?it/s]",
      "application/vnd.jupyter.widget-view+json": {
       "version_major": 2,
       "version_minor": 0,
       "model_id": "3eb0b2bc0120430da8dbf6a382c80971"
      }
     },
     "metadata": {},
     "output_type": "display_data"
    },
    {
     "data": {
      "text/plain": "  0%|          | 0/419 [00:00<?, ?it/s]",
      "application/vnd.jupyter.widget-view+json": {
       "version_major": 2,
       "version_minor": 0,
       "model_id": "f0f1ddde92074614ae9862d9d09a273f"
      }
     },
     "metadata": {},
     "output_type": "display_data"
    },
    {
     "data": {
      "text/plain": "  0%|          | 0/479 [00:00<?, ?it/s]",
      "application/vnd.jupyter.widget-view+json": {
       "version_major": 2,
       "version_minor": 0,
       "model_id": "d835967af7654a14898a3a804f671a89"
      }
     },
     "metadata": {},
     "output_type": "display_data"
    },
    {
     "name": "stderr",
     "output_type": "stream",
     "text": [
      "/tmp/ipykernel_664/3675266627.py:30: FutureWarning: The frame.append method is deprecated and will be removed from pandas in a future version. Use pandas.concat instead.\n",
      "  df = df.append(tmp)\n"
     ]
    },
    {
     "data": {
      "text/plain": "  0%|          | 0/475 [00:00<?, ?it/s]",
      "application/vnd.jupyter.widget-view+json": {
       "version_major": 2,
       "version_minor": 0,
       "model_id": "fed809ca1dcb4f79ba3510231c44e882"
      }
     },
     "metadata": {},
     "output_type": "display_data"
    },
    {
     "name": "stderr",
     "output_type": "stream",
     "text": [
      "/tmp/ipykernel_664/3675266627.py:30: FutureWarning: The frame.append method is deprecated and will be removed from pandas in a future version. Use pandas.concat instead.\n",
      "  df = df.append(tmp)\n"
     ]
    },
    {
     "data": {
      "text/plain": "  0%|          | 0/645 [00:00<?, ?it/s]",
      "application/vnd.jupyter.widget-view+json": {
       "version_major": 2,
       "version_minor": 0,
       "model_id": "7698e9416fd34004a43af2d8b01395c2"
      }
     },
     "metadata": {},
     "output_type": "display_data"
    },
    {
     "name": "stderr",
     "output_type": "stream",
     "text": [
      "/tmp/ipykernel_664/3675266627.py:30: FutureWarning: The frame.append method is deprecated and will be removed from pandas in a future version. Use pandas.concat instead.\n",
      "  df = df.append(tmp)\n"
     ]
    },
    {
     "data": {
      "text/plain": "  0%|          | 0/1588 [00:00<?, ?it/s]",
      "application/vnd.jupyter.widget-view+json": {
       "version_major": 2,
       "version_minor": 0,
       "model_id": "defb6b788b9446b19376afd3af735b38"
      }
     },
     "metadata": {},
     "output_type": "display_data"
    },
    {
     "name": "stderr",
     "output_type": "stream",
     "text": [
      "/tmp/ipykernel_664/3675266627.py:30: FutureWarning: The frame.append method is deprecated and will be removed from pandas in a future version. Use pandas.concat instead.\n",
      "  df = df.append(tmp)\n"
     ]
    },
    {
     "data": {
      "text/plain": "  0%|          | 0/708 [00:00<?, ?it/s]",
      "application/vnd.jupyter.widget-view+json": {
       "version_major": 2,
       "version_minor": 0,
       "model_id": "a21bbb3f739b4eafa66ce88458fdfb4b"
      }
     },
     "metadata": {},
     "output_type": "display_data"
    },
    {
     "name": "stderr",
     "output_type": "stream",
     "text": [
      "/tmp/ipykernel_664/3675266627.py:30: FutureWarning: The frame.append method is deprecated and will be removed from pandas in a future version. Use pandas.concat instead.\n",
      "  df = df.append(tmp)\n"
     ]
    },
    {
     "data": {
      "text/plain": "  0%|          | 0/516 [00:00<?, ?it/s]",
      "application/vnd.jupyter.widget-view+json": {
       "version_major": 2,
       "version_minor": 0,
       "model_id": "5829dfa9d577474e9f5b8839627f1e26"
      }
     },
     "metadata": {},
     "output_type": "display_data"
    },
    {
     "name": "stderr",
     "output_type": "stream",
     "text": [
      "/tmp/ipykernel_664/3675266627.py:30: FutureWarning: The frame.append method is deprecated and will be removed from pandas in a future version. Use pandas.concat instead.\n",
      "  df = df.append(tmp)\n"
     ]
    },
    {
     "data": {
      "text/plain": "  0%|          | 0/525 [00:00<?, ?it/s]",
      "application/vnd.jupyter.widget-view+json": {
       "version_major": 2,
       "version_minor": 0,
       "model_id": "0ccc8cac53b84f7da2faf0b2c6055435"
      }
     },
     "metadata": {},
     "output_type": "display_data"
    },
    {
     "name": "stderr",
     "output_type": "stream",
     "text": [
      "/tmp/ipykernel_664/3675266627.py:30: FutureWarning: The frame.append method is deprecated and will be removed from pandas in a future version. Use pandas.concat instead.\n",
      "  df = df.append(tmp)\n"
     ]
    },
    {
     "name": "stdout",
     "output_type": "stream",
     "text": [
      "Epoch 0/18\n",
      "----------\n",
      "train Loss: 1.2678 Acc: 0.4568\n",
      "val Loss: 1.3556 Acc: 0.4178\n",
      "\n",
      "Epoch 1/18\n",
      "----------\n",
      "train Loss: 1.0238 Acc: 0.5732\n",
      "val Loss: 1.5659 Acc: 0.4298\n",
      "\n",
      "Epoch 2/18\n",
      "----------\n",
      "train Loss: 0.9556 Acc: 0.5972\n",
      "val Loss: 1.1155 Acc: 0.4435\n",
      "\n",
      "Epoch 3/18\n",
      "----------\n",
      "train Loss: 0.9168 Acc: 0.6153\n",
      "val Loss: 1.6006 Acc: 0.4301\n",
      "\n",
      "Epoch 4/18\n",
      "----------\n",
      "train Loss: 0.8806 Acc: 0.6230\n",
      "val Loss: 1.7353 Acc: 0.4301\n",
      "\n",
      "Epoch 5/18\n",
      "----------\n",
      "train Loss: 0.8452 Acc: 0.6413\n",
      "val Loss: 1.1175 Acc: 0.4346\n",
      "\n",
      "Epoch 6/18\n",
      "----------\n",
      "train Loss: 0.8110 Acc: 0.6549\n",
      "val Loss: 1.2253 Acc: 0.4343\n",
      "\n",
      "Epoch 7/18\n",
      "----------\n",
      "train Loss: 0.7594 Acc: 0.6846\n",
      "val Loss: 1.1115 Acc: 0.5075\n",
      "\n",
      "Epoch 8/18\n",
      "----------\n",
      "train Loss: 0.7370 Acc: 0.7029\n",
      "val Loss: 1.2850 Acc: 0.5586\n",
      "\n",
      "Epoch 9/18\n",
      "----------\n",
      "train Loss: 0.7305 Acc: 0.6998\n",
      "val Loss: 1.2732 Acc: 0.5580\n",
      "\n",
      "Epoch 10/18\n",
      "----------\n",
      "train Loss: 0.7206 Acc: 0.7075\n",
      "val Loss: 1.1162 Acc: 0.5577\n",
      "\n",
      "Epoch 11/18\n",
      "----------\n",
      "train Loss: 0.7147 Acc: 0.7106\n",
      "val Loss: 1.0357 Acc: 0.5332\n",
      "\n",
      "Epoch 12/18\n",
      "----------\n",
      "train Loss: 0.7124 Acc: 0.7083\n",
      "val Loss: 1.0694 Acc: 0.5993\n",
      "\n",
      "Epoch 13/18\n",
      "----------\n",
      "train Loss: 0.7063 Acc: 0.7109\n",
      "val Loss: 1.2897 Acc: 0.4536\n",
      "\n",
      "Epoch 14/18\n",
      "----------\n",
      "train Loss: 0.6983 Acc: 0.7185\n",
      "val Loss: 1.0400 Acc: 0.6027\n",
      "\n",
      "Epoch 15/18\n",
      "----------\n",
      "train Loss: 0.6956 Acc: 0.7213\n",
      "val Loss: 1.0171 Acc: 0.6088\n",
      "\n",
      "Epoch 16/18\n",
      "----------\n",
      "train Loss: 0.6974 Acc: 0.7165\n",
      "val Loss: 0.9923 Acc: 0.6152\n",
      "\n",
      "Epoch 17/18\n",
      "----------\n",
      "train Loss: 0.6924 Acc: 0.7191\n",
      "val Loss: 1.0202 Acc: 0.6091\n",
      "\n",
      "Epoch 18/18\n",
      "----------\n",
      "train Loss: 0.6959 Acc: 0.7244\n",
      "val Loss: 0.9857 Acc: 0.6076\n",
      "\n",
      "Training complete in 6m 26s\n",
      "Best val Acc: 0.615243\n"
     ]
    },
    {
     "data": {
      "text/plain": "  0%|          | 0/781 [00:00<?, ?it/s]",
      "application/vnd.jupyter.widget-view+json": {
       "version_major": 2,
       "version_minor": 0,
       "model_id": "30ff2bf568ed45a7a40e43d469ca4d7d"
      }
     },
     "metadata": {},
     "output_type": "display_data"
    },
    {
     "data": {
      "text/plain": "  0%|          | 0/669 [00:00<?, ?it/s]",
      "application/vnd.jupyter.widget-view+json": {
       "version_major": 2,
       "version_minor": 0,
       "model_id": "3f041dd3c2d6482bbe7365281047430e"
      }
     },
     "metadata": {},
     "output_type": "display_data"
    },
    {
     "data": {
      "text/plain": "  0%|          | 0/419 [00:00<?, ?it/s]",
      "application/vnd.jupyter.widget-view+json": {
       "version_major": 2,
       "version_minor": 0,
       "model_id": "d8fd0eced9d94dfca40b5f010bf7ebea"
      }
     },
     "metadata": {},
     "output_type": "display_data"
    },
    {
     "data": {
      "text/plain": "  0%|          | 0/479 [00:00<?, ?it/s]",
      "application/vnd.jupyter.widget-view+json": {
       "version_major": 2,
       "version_minor": 0,
       "model_id": "04c608649a974a26954789cc96038428"
      }
     },
     "metadata": {},
     "output_type": "display_data"
    },
    {
     "data": {
      "text/plain": "  0%|          | 0/475 [00:00<?, ?it/s]",
      "application/vnd.jupyter.widget-view+json": {
       "version_major": 2,
       "version_minor": 0,
       "model_id": "1c10ade675424c93a9243e60a7d4e1cf"
      }
     },
     "metadata": {},
     "output_type": "display_data"
    },
    {
     "data": {
      "text/plain": "  0%|          | 0/645 [00:00<?, ?it/s]",
      "application/vnd.jupyter.widget-view+json": {
       "version_major": 2,
       "version_minor": 0,
       "model_id": "c800a25c65b24e588b4ceaa452cb8936"
      }
     },
     "metadata": {},
     "output_type": "display_data"
    },
    {
     "data": {
      "text/plain": "  0%|          | 0/1588 [00:00<?, ?it/s]",
      "application/vnd.jupyter.widget-view+json": {
       "version_major": 2,
       "version_minor": 0,
       "model_id": "0528527739d4498a9607a808af1124b0"
      }
     },
     "metadata": {},
     "output_type": "display_data"
    },
    {
     "data": {
      "text/plain": "  0%|          | 0/708 [00:00<?, ?it/s]",
      "application/vnd.jupyter.widget-view+json": {
       "version_major": 2,
       "version_minor": 0,
       "model_id": "42c0aca77273440fbf62b57856bca120"
      }
     },
     "metadata": {},
     "output_type": "display_data"
    },
    {
     "data": {
      "text/plain": "  0%|          | 0/516 [00:00<?, ?it/s]",
      "application/vnd.jupyter.widget-view+json": {
       "version_major": 2,
       "version_minor": 0,
       "model_id": "4957735b497b43be9ed294aa23134bc8"
      }
     },
     "metadata": {},
     "output_type": "display_data"
    },
    {
     "data": {
      "text/plain": "  0%|          | 0/525 [00:00<?, ?it/s]",
      "application/vnd.jupyter.widget-view+json": {
       "version_major": 2,
       "version_minor": 0,
       "model_id": "eb32a18c729442378b9dfd05df45bd5c"
      }
     },
     "metadata": {},
     "output_type": "display_data"
    },
    {
     "data": {
      "text/plain": "  0%|          | 0/781 [00:00<?, ?it/s]",
      "application/vnd.jupyter.widget-view+json": {
       "version_major": 2,
       "version_minor": 0,
       "model_id": "1433385715f6476eb60f3f82268a123c"
      }
     },
     "metadata": {},
     "output_type": "display_data"
    },
    {
     "name": "stderr",
     "output_type": "stream",
     "text": [
      "/tmp/ipykernel_664/3675266627.py:30: FutureWarning: The frame.append method is deprecated and will be removed from pandas in a future version. Use pandas.concat instead.\n",
      "  df = df.append(tmp)\n"
     ]
    },
    {
     "data": {
      "text/plain": "  0%|          | 0/669 [00:00<?, ?it/s]",
      "application/vnd.jupyter.widget-view+json": {
       "version_major": 2,
       "version_minor": 0,
       "model_id": "560dc70aaaf14a7e867a21a85a479616"
      }
     },
     "metadata": {},
     "output_type": "display_data"
    },
    {
     "data": {
      "text/plain": "  0%|          | 0/419 [00:00<?, ?it/s]",
      "application/vnd.jupyter.widget-view+json": {
       "version_major": 2,
       "version_minor": 0,
       "model_id": "07414764b9c34ce29a7a1b7230ed164f"
      }
     },
     "metadata": {},
     "output_type": "display_data"
    },
    {
     "data": {
      "text/plain": "  0%|          | 0/479 [00:00<?, ?it/s]",
      "application/vnd.jupyter.widget-view+json": {
       "version_major": 2,
       "version_minor": 0,
       "model_id": "fc02d360d81842d8833e2db1d5ca720f"
      }
     },
     "metadata": {},
     "output_type": "display_data"
    },
    {
     "name": "stderr",
     "output_type": "stream",
     "text": [
      "/tmp/ipykernel_664/3675266627.py:30: FutureWarning: The frame.append method is deprecated and will be removed from pandas in a future version. Use pandas.concat instead.\n",
      "  df = df.append(tmp)\n"
     ]
    },
    {
     "data": {
      "text/plain": "  0%|          | 0/475 [00:00<?, ?it/s]",
      "application/vnd.jupyter.widget-view+json": {
       "version_major": 2,
       "version_minor": 0,
       "model_id": "69c0655930c84ca4bdb77ae22b83cfff"
      }
     },
     "metadata": {},
     "output_type": "display_data"
    },
    {
     "name": "stderr",
     "output_type": "stream",
     "text": [
      "/tmp/ipykernel_664/3675266627.py:30: FutureWarning: The frame.append method is deprecated and will be removed from pandas in a future version. Use pandas.concat instead.\n",
      "  df = df.append(tmp)\n"
     ]
    },
    {
     "data": {
      "text/plain": "  0%|          | 0/645 [00:00<?, ?it/s]",
      "application/vnd.jupyter.widget-view+json": {
       "version_major": 2,
       "version_minor": 0,
       "model_id": "3069d22ed13c4dcaa9714cafe20f36da"
      }
     },
     "metadata": {},
     "output_type": "display_data"
    },
    {
     "name": "stderr",
     "output_type": "stream",
     "text": [
      "/tmp/ipykernel_664/3675266627.py:30: FutureWarning: The frame.append method is deprecated and will be removed from pandas in a future version. Use pandas.concat instead.\n",
      "  df = df.append(tmp)\n"
     ]
    },
    {
     "data": {
      "text/plain": "  0%|          | 0/1588 [00:00<?, ?it/s]",
      "application/vnd.jupyter.widget-view+json": {
       "version_major": 2,
       "version_minor": 0,
       "model_id": "f27e2f62a82042f3a569038d3b4371f2"
      }
     },
     "metadata": {},
     "output_type": "display_data"
    },
    {
     "name": "stderr",
     "output_type": "stream",
     "text": [
      "/tmp/ipykernel_664/3675266627.py:30: FutureWarning: The frame.append method is deprecated and will be removed from pandas in a future version. Use pandas.concat instead.\n",
      "  df = df.append(tmp)\n"
     ]
    },
    {
     "data": {
      "text/plain": "  0%|          | 0/708 [00:00<?, ?it/s]",
      "application/vnd.jupyter.widget-view+json": {
       "version_major": 2,
       "version_minor": 0,
       "model_id": "615045e3eaf145eaba1a345c32bf5224"
      }
     },
     "metadata": {},
     "output_type": "display_data"
    },
    {
     "name": "stderr",
     "output_type": "stream",
     "text": [
      "/tmp/ipykernel_664/3675266627.py:30: FutureWarning: The frame.append method is deprecated and will be removed from pandas in a future version. Use pandas.concat instead.\n",
      "  df = df.append(tmp)\n"
     ]
    },
    {
     "data": {
      "text/plain": "  0%|          | 0/516 [00:00<?, ?it/s]",
      "application/vnd.jupyter.widget-view+json": {
       "version_major": 2,
       "version_minor": 0,
       "model_id": "0c47c0ce28ee49c694ea9bea2640f484"
      }
     },
     "metadata": {},
     "output_type": "display_data"
    },
    {
     "name": "stderr",
     "output_type": "stream",
     "text": [
      "/tmp/ipykernel_664/3675266627.py:30: FutureWarning: The frame.append method is deprecated and will be removed from pandas in a future version. Use pandas.concat instead.\n",
      "  df = df.append(tmp)\n"
     ]
    },
    {
     "data": {
      "text/plain": "  0%|          | 0/525 [00:00<?, ?it/s]",
      "application/vnd.jupyter.widget-view+json": {
       "version_major": 2,
       "version_minor": 0,
       "model_id": "c08b7a6fed7d450b8f03822cfe9906d6"
      }
     },
     "metadata": {},
     "output_type": "display_data"
    },
    {
     "name": "stderr",
     "output_type": "stream",
     "text": [
      "/tmp/ipykernel_664/3675266627.py:30: FutureWarning: The frame.append method is deprecated and will be removed from pandas in a future version. Use pandas.concat instead.\n",
      "  df = df.append(tmp)\n"
     ]
    },
    {
     "name": "stdout",
     "output_type": "stream",
     "text": [
      "Epoch 0/18\n",
      "----------\n",
      "train Loss: 1.2640 Acc: 0.4932\n",
      "val Loss: 1.3785 Acc: 0.4307\n",
      "\n",
      "Epoch 1/18\n",
      "----------\n",
      "train Loss: 1.0409 Acc: 0.5656\n",
      "val Loss: 1.4249 Acc: 0.4340\n",
      "\n",
      "Epoch 2/18\n",
      "----------\n",
      "train Loss: 0.9761 Acc: 0.5947\n",
      "val Loss: 1.0869 Acc: 0.4570\n",
      "\n",
      "Epoch 3/18\n",
      "----------\n",
      "train Loss: 0.9452 Acc: 0.6051\n",
      "val Loss: 1.4740 Acc: 0.4337\n",
      "\n",
      "Epoch 4/18\n",
      "----------\n",
      "train Loss: 0.8862 Acc: 0.6368\n",
      "val Loss: 1.5004 Acc: 0.4340\n",
      "\n",
      "Epoch 5/18\n",
      "----------\n",
      "train Loss: 0.8522 Acc: 0.6456\n",
      "val Loss: 1.1180 Acc: 0.4607\n",
      "\n",
      "Epoch 6/18\n",
      "----------\n",
      "train Loss: 0.8143 Acc: 0.6637\n",
      "val Loss: 1.3010 Acc: 0.4340\n",
      "\n",
      "Epoch 7/18\n",
      "----------\n",
      "train Loss: 0.7584 Acc: 0.6897\n",
      "val Loss: 1.0993 Acc: 0.4916\n",
      "\n",
      "Epoch 8/18\n",
      "----------\n",
      "train Loss: 0.7375 Acc: 0.7055\n",
      "val Loss: 1.1625 Acc: 0.5240\n",
      "\n",
      "Epoch 9/18\n",
      "----------\n",
      "train Loss: 0.7216 Acc: 0.7100\n",
      "val Loss: 1.5093 Acc: 0.4680\n",
      "\n",
      "Epoch 10/18\n",
      "----------\n",
      "train Loss: 0.7172 Acc: 0.7171\n",
      "val Loss: 1.0816 Acc: 0.4723\n",
      "\n",
      "Epoch 11/18\n",
      "----------\n",
      "train Loss: 0.7055 Acc: 0.7250\n",
      "val Loss: 1.0715 Acc: 0.5528\n",
      "\n",
      "Epoch 12/18\n",
      "----------\n",
      "train Loss: 0.7085 Acc: 0.7196\n",
      "val Loss: 1.2815 Acc: 0.5145\n",
      "\n",
      "Epoch 13/18\n",
      "----------\n",
      "train Loss: 0.6978 Acc: 0.7244\n",
      "val Loss: 1.0373 Acc: 0.5908\n",
      "\n",
      "Epoch 14/18\n",
      "----------\n",
      "train Loss: 0.6879 Acc: 0.7321\n",
      "val Loss: 1.0959 Acc: 0.5736\n",
      "\n",
      "Epoch 15/18\n",
      "----------\n",
      "train Loss: 0.6905 Acc: 0.7272\n",
      "val Loss: 1.1219 Acc: 0.5733\n",
      "\n",
      "Epoch 16/18\n",
      "----------\n",
      "train Loss: 0.6890 Acc: 0.7326\n",
      "val Loss: 1.3923 Acc: 0.5084\n",
      "\n",
      "Epoch 17/18\n",
      "----------\n",
      "train Loss: 0.6873 Acc: 0.7326\n",
      "val Loss: 1.3435 Acc: 0.5464\n",
      "\n",
      "Epoch 18/18\n",
      "----------\n",
      "train Loss: 0.6841 Acc: 0.7369\n",
      "val Loss: 1.0808 Acc: 0.5687\n",
      "\n",
      "Training complete in 6m 27s\n",
      "Best val Acc: 0.590756\n"
     ]
    },
    {
     "data": {
      "text/plain": "  0%|          | 0/781 [00:00<?, ?it/s]",
      "application/vnd.jupyter.widget-view+json": {
       "version_major": 2,
       "version_minor": 0,
       "model_id": "67c1bf3bc9b54b15a30f5d9cd68a46ce"
      }
     },
     "metadata": {},
     "output_type": "display_data"
    },
    {
     "data": {
      "text/plain": "  0%|          | 0/669 [00:00<?, ?it/s]",
      "application/vnd.jupyter.widget-view+json": {
       "version_major": 2,
       "version_minor": 0,
       "model_id": "5da0bc4558db47ac9a3c14ce175d8334"
      }
     },
     "metadata": {},
     "output_type": "display_data"
    },
    {
     "data": {
      "text/plain": "  0%|          | 0/419 [00:00<?, ?it/s]",
      "application/vnd.jupyter.widget-view+json": {
       "version_major": 2,
       "version_minor": 0,
       "model_id": "6db9406792a64f92a363c4d6b777d02d"
      }
     },
     "metadata": {},
     "output_type": "display_data"
    },
    {
     "data": {
      "text/plain": "  0%|          | 0/479 [00:00<?, ?it/s]",
      "application/vnd.jupyter.widget-view+json": {
       "version_major": 2,
       "version_minor": 0,
       "model_id": "fa082b927bb749cdb1435fb1aee7a0bc"
      }
     },
     "metadata": {},
     "output_type": "display_data"
    },
    {
     "data": {
      "text/plain": "  0%|          | 0/475 [00:00<?, ?it/s]",
      "application/vnd.jupyter.widget-view+json": {
       "version_major": 2,
       "version_minor": 0,
       "model_id": "902b1813f4f8479facbf8266b7d0733d"
      }
     },
     "metadata": {},
     "output_type": "display_data"
    },
    {
     "data": {
      "text/plain": "  0%|          | 0/645 [00:00<?, ?it/s]",
      "application/vnd.jupyter.widget-view+json": {
       "version_major": 2,
       "version_minor": 0,
       "model_id": "7d3271ecc2cd47a48d6106dd6cce5049"
      }
     },
     "metadata": {},
     "output_type": "display_data"
    },
    {
     "data": {
      "text/plain": "  0%|          | 0/1588 [00:00<?, ?it/s]",
      "application/vnd.jupyter.widget-view+json": {
       "version_major": 2,
       "version_minor": 0,
       "model_id": "51d9514f62fe4f73a99bc9c3b07fe8ea"
      }
     },
     "metadata": {},
     "output_type": "display_data"
    },
    {
     "data": {
      "text/plain": "  0%|          | 0/708 [00:00<?, ?it/s]",
      "application/vnd.jupyter.widget-view+json": {
       "version_major": 2,
       "version_minor": 0,
       "model_id": "26f034f7607a47c29e1a834a3e5c5782"
      }
     },
     "metadata": {},
     "output_type": "display_data"
    },
    {
     "data": {
      "text/plain": "  0%|          | 0/516 [00:00<?, ?it/s]",
      "application/vnd.jupyter.widget-view+json": {
       "version_major": 2,
       "version_minor": 0,
       "model_id": "c0e20ac64c4d4fe19f9f458613f14281"
      }
     },
     "metadata": {},
     "output_type": "display_data"
    },
    {
     "data": {
      "text/plain": "  0%|          | 0/525 [00:00<?, ?it/s]",
      "application/vnd.jupyter.widget-view+json": {
       "version_major": 2,
       "version_minor": 0,
       "model_id": "43d46254feb04a66b3e4114629d029ab"
      }
     },
     "metadata": {},
     "output_type": "display_data"
    },
    {
     "data": {
      "text/plain": "  0%|          | 0/781 [00:00<?, ?it/s]",
      "application/vnd.jupyter.widget-view+json": {
       "version_major": 2,
       "version_minor": 0,
       "model_id": "6de257a3c67e4df2be52d30dc5b11b72"
      }
     },
     "metadata": {},
     "output_type": "display_data"
    },
    {
     "name": "stderr",
     "output_type": "stream",
     "text": [
      "/tmp/ipykernel_664/3675266627.py:30: FutureWarning: The frame.append method is deprecated and will be removed from pandas in a future version. Use pandas.concat instead.\n",
      "  df = df.append(tmp)\n"
     ]
    },
    {
     "data": {
      "text/plain": "  0%|          | 0/669 [00:00<?, ?it/s]",
      "application/vnd.jupyter.widget-view+json": {
       "version_major": 2,
       "version_minor": 0,
       "model_id": "783b8c96407c469a8a3d4c8777577c86"
      }
     },
     "metadata": {},
     "output_type": "display_data"
    },
    {
     "data": {
      "text/plain": "  0%|          | 0/419 [00:00<?, ?it/s]",
      "application/vnd.jupyter.widget-view+json": {
       "version_major": 2,
       "version_minor": 0,
       "model_id": "b2b7e56eaac54dccb9e7a83030fb9e66"
      }
     },
     "metadata": {},
     "output_type": "display_data"
    },
    {
     "data": {
      "text/plain": "  0%|          | 0/479 [00:00<?, ?it/s]",
      "application/vnd.jupyter.widget-view+json": {
       "version_major": 2,
       "version_minor": 0,
       "model_id": "d6aeb9a634544d5d9bdf1005238bb423"
      }
     },
     "metadata": {},
     "output_type": "display_data"
    },
    {
     "name": "stderr",
     "output_type": "stream",
     "text": [
      "/tmp/ipykernel_664/3675266627.py:30: FutureWarning: The frame.append method is deprecated and will be removed from pandas in a future version. Use pandas.concat instead.\n",
      "  df = df.append(tmp)\n"
     ]
    },
    {
     "data": {
      "text/plain": "  0%|          | 0/475 [00:00<?, ?it/s]",
      "application/vnd.jupyter.widget-view+json": {
       "version_major": 2,
       "version_minor": 0,
       "model_id": "630a16bf771145adb18ac59cd14fdfdd"
      }
     },
     "metadata": {},
     "output_type": "display_data"
    },
    {
     "name": "stderr",
     "output_type": "stream",
     "text": [
      "/tmp/ipykernel_664/3675266627.py:30: FutureWarning: The frame.append method is deprecated and will be removed from pandas in a future version. Use pandas.concat instead.\n",
      "  df = df.append(tmp)\n"
     ]
    },
    {
     "data": {
      "text/plain": "  0%|          | 0/645 [00:00<?, ?it/s]",
      "application/vnd.jupyter.widget-view+json": {
       "version_major": 2,
       "version_minor": 0,
       "model_id": "696e20e1b8a14be88c2fd28a226f6035"
      }
     },
     "metadata": {},
     "output_type": "display_data"
    },
    {
     "name": "stderr",
     "output_type": "stream",
     "text": [
      "/tmp/ipykernel_664/3675266627.py:30: FutureWarning: The frame.append method is deprecated and will be removed from pandas in a future version. Use pandas.concat instead.\n",
      "  df = df.append(tmp)\n"
     ]
    },
    {
     "data": {
      "text/plain": "  0%|          | 0/1588 [00:00<?, ?it/s]",
      "application/vnd.jupyter.widget-view+json": {
       "version_major": 2,
       "version_minor": 0,
       "model_id": "790a5f84c5044240bd0cdee59b21534d"
      }
     },
     "metadata": {},
     "output_type": "display_data"
    },
    {
     "name": "stderr",
     "output_type": "stream",
     "text": [
      "/tmp/ipykernel_664/3675266627.py:30: FutureWarning: The frame.append method is deprecated and will be removed from pandas in a future version. Use pandas.concat instead.\n",
      "  df = df.append(tmp)\n"
     ]
    },
    {
     "data": {
      "text/plain": "  0%|          | 0/708 [00:00<?, ?it/s]",
      "application/vnd.jupyter.widget-view+json": {
       "version_major": 2,
       "version_minor": 0,
       "model_id": "3be583ba168f4c7090add135d6cccb65"
      }
     },
     "metadata": {},
     "output_type": "display_data"
    },
    {
     "name": "stderr",
     "output_type": "stream",
     "text": [
      "/tmp/ipykernel_664/3675266627.py:30: FutureWarning: The frame.append method is deprecated and will be removed from pandas in a future version. Use pandas.concat instead.\n",
      "  df = df.append(tmp)\n"
     ]
    },
    {
     "data": {
      "text/plain": "  0%|          | 0/516 [00:00<?, ?it/s]",
      "application/vnd.jupyter.widget-view+json": {
       "version_major": 2,
       "version_minor": 0,
       "model_id": "5b01b1a016354cb999902c90abbcf921"
      }
     },
     "metadata": {},
     "output_type": "display_data"
    },
    {
     "name": "stderr",
     "output_type": "stream",
     "text": [
      "/tmp/ipykernel_664/3675266627.py:30: FutureWarning: The frame.append method is deprecated and will be removed from pandas in a future version. Use pandas.concat instead.\n",
      "  df = df.append(tmp)\n"
     ]
    },
    {
     "data": {
      "text/plain": "  0%|          | 0/525 [00:00<?, ?it/s]",
      "application/vnd.jupyter.widget-view+json": {
       "version_major": 2,
       "version_minor": 0,
       "model_id": "de2a5a7fb0f84ceeb724b32efe774766"
      }
     },
     "metadata": {},
     "output_type": "display_data"
    },
    {
     "name": "stderr",
     "output_type": "stream",
     "text": [
      "/tmp/ipykernel_664/3675266627.py:30: FutureWarning: The frame.append method is deprecated and will be removed from pandas in a future version. Use pandas.concat instead.\n",
      "  df = df.append(tmp)\n"
     ]
    },
    {
     "name": "stdout",
     "output_type": "stream",
     "text": [
      "Epoch 0/18\n",
      "----------\n",
      "train Loss: 1.6179 Acc: 0.4076\n",
      "val Loss: 1.9380 Acc: 0.2785\n",
      "\n",
      "Epoch 1/18\n",
      "----------\n",
      "train Loss: 1.3302 Acc: 0.4887\n",
      "val Loss: 1.6618 Acc: 0.2813\n",
      "\n",
      "Epoch 2/18\n",
      "----------\n",
      "train Loss: 1.2432 Acc: 0.5277\n",
      "val Loss: 1.7059 Acc: 0.2969\n",
      "\n",
      "Epoch 3/18\n",
      "----------\n",
      "train Loss: 1.1805 Acc: 0.5435\n",
      "val Loss: 1.4178 Acc: 0.3248\n",
      "\n",
      "Epoch 4/18\n",
      "----------\n",
      "train Loss: 1.1269 Acc: 0.5791\n",
      "val Loss: 1.7816 Acc: 0.2703\n",
      "\n",
      "Epoch 5/18\n",
      "----------\n",
      "train Loss: 1.0900 Acc: 0.5808\n",
      "val Loss: 2.2572 Acc: 0.1650\n",
      "\n",
      "Epoch 6/18\n",
      "----------\n",
      "train Loss: 1.0265 Acc: 0.6170\n",
      "val Loss: 1.4141 Acc: 0.4870\n",
      "\n",
      "Epoch 7/18\n",
      "----------\n",
      "train Loss: 0.9439 Acc: 0.6546\n",
      "val Loss: 1.3501 Acc: 0.5035\n",
      "\n",
      "Epoch 8/18\n",
      "----------\n",
      "train Loss: 0.9241 Acc: 0.6659\n",
      "val Loss: 2.5133 Acc: 0.2461\n",
      "\n",
      "Epoch 9/18\n",
      "----------\n",
      "train Loss: 0.9150 Acc: 0.6758\n",
      "val Loss: 1.5800 Acc: 0.5051\n",
      "\n",
      "Epoch 10/18\n",
      "----------\n",
      "train Loss: 0.9018 Acc: 0.6724\n",
      "val Loss: 1.4309 Acc: 0.4977\n",
      "\n",
      "Epoch 11/18\n",
      "----------\n",
      "train Loss: 0.9045 Acc: 0.6775\n",
      "val Loss: 1.4449 Acc: 0.4879\n",
      "\n",
      "Epoch 12/18\n",
      "----------\n",
      "train Loss: 0.8965 Acc: 0.6778\n",
      "val Loss: 2.1850 Acc: 0.2332\n",
      "\n",
      "Epoch 13/18\n",
      "----------\n",
      "train Loss: 0.8868 Acc: 0.6843\n",
      "val Loss: 1.4384 Acc: 0.4757\n",
      "\n",
      "Epoch 14/18\n",
      "----------\n",
      "train Loss: 0.8750 Acc: 0.6922\n",
      "val Loss: 1.8265 Acc: 0.3649\n",
      "\n",
      "Epoch 15/18\n",
      "----------\n",
      "train Loss: 0.8829 Acc: 0.6877\n",
      "val Loss: 1.7171 Acc: 0.3716\n",
      "\n",
      "Epoch 16/18\n",
      "----------\n",
      "train Loss: 0.8763 Acc: 0.6902\n",
      "val Loss: 1.3197 Acc: 0.4995\n",
      "\n",
      "Epoch 17/18\n",
      "----------\n",
      "train Loss: 0.8744 Acc: 0.6914\n",
      "val Loss: 1.2739 Acc: 0.5393\n",
      "\n",
      "Epoch 18/18\n",
      "----------\n",
      "train Loss: 0.8699 Acc: 0.6925\n",
      "val Loss: 1.3097 Acc: 0.5354\n",
      "\n",
      "Training complete in 6m 26s\n",
      "Best val Acc: 0.539333\n"
     ]
    },
    {
     "data": {
      "text/plain": "  0%|          | 0/781 [00:00<?, ?it/s]",
      "application/vnd.jupyter.widget-view+json": {
       "version_major": 2,
       "version_minor": 0,
       "model_id": "71437c7557ca4065904ac7c946058e25"
      }
     },
     "metadata": {},
     "output_type": "display_data"
    },
    {
     "data": {
      "text/plain": "  0%|          | 0/669 [00:00<?, ?it/s]",
      "application/vnd.jupyter.widget-view+json": {
       "version_major": 2,
       "version_minor": 0,
       "model_id": "df6707b6ca08424eaa4bf00850f1fda3"
      }
     },
     "metadata": {},
     "output_type": "display_data"
    },
    {
     "data": {
      "text/plain": "  0%|          | 0/419 [00:00<?, ?it/s]",
      "application/vnd.jupyter.widget-view+json": {
       "version_major": 2,
       "version_minor": 0,
       "model_id": "50cadc35e57a433a8ef11c0c3603e017"
      }
     },
     "metadata": {},
     "output_type": "display_data"
    },
    {
     "data": {
      "text/plain": "  0%|          | 0/479 [00:00<?, ?it/s]",
      "application/vnd.jupyter.widget-view+json": {
       "version_major": 2,
       "version_minor": 0,
       "model_id": "cbadb15f3c1843b0a19fc7a84a17c0ef"
      }
     },
     "metadata": {},
     "output_type": "display_data"
    },
    {
     "data": {
      "text/plain": "  0%|          | 0/475 [00:00<?, ?it/s]",
      "application/vnd.jupyter.widget-view+json": {
       "version_major": 2,
       "version_minor": 0,
       "model_id": "e84f7be8e8934699a96ac2b11e10b0be"
      }
     },
     "metadata": {},
     "output_type": "display_data"
    },
    {
     "data": {
      "text/plain": "  0%|          | 0/645 [00:00<?, ?it/s]",
      "application/vnd.jupyter.widget-view+json": {
       "version_major": 2,
       "version_minor": 0,
       "model_id": "5d58b08d8b554c7aa142863867f502a9"
      }
     },
     "metadata": {},
     "output_type": "display_data"
    },
    {
     "data": {
      "text/plain": "  0%|          | 0/1588 [00:00<?, ?it/s]",
      "application/vnd.jupyter.widget-view+json": {
       "version_major": 2,
       "version_minor": 0,
       "model_id": "0677f83de5bb4af98531e0102b8ffcfc"
      }
     },
     "metadata": {},
     "output_type": "display_data"
    },
    {
     "data": {
      "text/plain": "  0%|          | 0/708 [00:00<?, ?it/s]",
      "application/vnd.jupyter.widget-view+json": {
       "version_major": 2,
       "version_minor": 0,
       "model_id": "c8a554a96a3f44c78b3ecb04d5797a1a"
      }
     },
     "metadata": {},
     "output_type": "display_data"
    },
    {
     "data": {
      "text/plain": "  0%|          | 0/516 [00:00<?, ?it/s]",
      "application/vnd.jupyter.widget-view+json": {
       "version_major": 2,
       "version_minor": 0,
       "model_id": "598ad814d2da437592400c74e1bd9248"
      }
     },
     "metadata": {},
     "output_type": "display_data"
    },
    {
     "data": {
      "text/plain": "  0%|          | 0/525 [00:00<?, ?it/s]",
      "application/vnd.jupyter.widget-view+json": {
       "version_major": 2,
       "version_minor": 0,
       "model_id": "5a5b459c01524d31935c0f0a900e1271"
      }
     },
     "metadata": {},
     "output_type": "display_data"
    },
    {
     "data": {
      "text/plain": "  0%|          | 0/781 [00:00<?, ?it/s]",
      "application/vnd.jupyter.widget-view+json": {
       "version_major": 2,
       "version_minor": 0,
       "model_id": "9511ca16e5494a17ab3dd76bf0b652b5"
      }
     },
     "metadata": {},
     "output_type": "display_data"
    },
    {
     "name": "stderr",
     "output_type": "stream",
     "text": [
      "/tmp/ipykernel_664/3675266627.py:30: FutureWarning: The frame.append method is deprecated and will be removed from pandas in a future version. Use pandas.concat instead.\n",
      "  df = df.append(tmp)\n"
     ]
    },
    {
     "data": {
      "text/plain": "  0%|          | 0/669 [00:00<?, ?it/s]",
      "application/vnd.jupyter.widget-view+json": {
       "version_major": 2,
       "version_minor": 0,
       "model_id": "6ca89ee9cc154f2882823a96a91f2436"
      }
     },
     "metadata": {},
     "output_type": "display_data"
    },
    {
     "data": {
      "text/plain": "  0%|          | 0/419 [00:00<?, ?it/s]",
      "application/vnd.jupyter.widget-view+json": {
       "version_major": 2,
       "version_minor": 0,
       "model_id": "23c9a1ba2c80497ab472203a45ed86c7"
      }
     },
     "metadata": {},
     "output_type": "display_data"
    },
    {
     "data": {
      "text/plain": "  0%|          | 0/479 [00:00<?, ?it/s]",
      "application/vnd.jupyter.widget-view+json": {
       "version_major": 2,
       "version_minor": 0,
       "model_id": "124d3422df914c1b94fb215331cbb2ae"
      }
     },
     "metadata": {},
     "output_type": "display_data"
    },
    {
     "name": "stderr",
     "output_type": "stream",
     "text": [
      "/tmp/ipykernel_664/3675266627.py:30: FutureWarning: The frame.append method is deprecated and will be removed from pandas in a future version. Use pandas.concat instead.\n",
      "  df = df.append(tmp)\n"
     ]
    },
    {
     "data": {
      "text/plain": "  0%|          | 0/475 [00:00<?, ?it/s]",
      "application/vnd.jupyter.widget-view+json": {
       "version_major": 2,
       "version_minor": 0,
       "model_id": "0a78f2498e4e4db3b7d1fc738d1cb233"
      }
     },
     "metadata": {},
     "output_type": "display_data"
    },
    {
     "name": "stderr",
     "output_type": "stream",
     "text": [
      "/tmp/ipykernel_664/3675266627.py:30: FutureWarning: The frame.append method is deprecated and will be removed from pandas in a future version. Use pandas.concat instead.\n",
      "  df = df.append(tmp)\n"
     ]
    },
    {
     "data": {
      "text/plain": "  0%|          | 0/645 [00:00<?, ?it/s]",
      "application/vnd.jupyter.widget-view+json": {
       "version_major": 2,
       "version_minor": 0,
       "model_id": "8704181f5cd04af88c0a6bdbed7e8490"
      }
     },
     "metadata": {},
     "output_type": "display_data"
    },
    {
     "name": "stderr",
     "output_type": "stream",
     "text": [
      "/tmp/ipykernel_664/3675266627.py:30: FutureWarning: The frame.append method is deprecated and will be removed from pandas in a future version. Use pandas.concat instead.\n",
      "  df = df.append(tmp)\n"
     ]
    },
    {
     "data": {
      "text/plain": "  0%|          | 0/1588 [00:00<?, ?it/s]",
      "application/vnd.jupyter.widget-view+json": {
       "version_major": 2,
       "version_minor": 0,
       "model_id": "45b6f7115c2649449fd89d022ff6cd09"
      }
     },
     "metadata": {},
     "output_type": "display_data"
    },
    {
     "name": "stderr",
     "output_type": "stream",
     "text": [
      "/tmp/ipykernel_664/3675266627.py:30: FutureWarning: The frame.append method is deprecated and will be removed from pandas in a future version. Use pandas.concat instead.\n",
      "  df = df.append(tmp)\n"
     ]
    },
    {
     "data": {
      "text/plain": "  0%|          | 0/708 [00:00<?, ?it/s]",
      "application/vnd.jupyter.widget-view+json": {
       "version_major": 2,
       "version_minor": 0,
       "model_id": "b07c224647e34677aef7549eb1c5cf84"
      }
     },
     "metadata": {},
     "output_type": "display_data"
    },
    {
     "name": "stderr",
     "output_type": "stream",
     "text": [
      "/tmp/ipykernel_664/3675266627.py:30: FutureWarning: The frame.append method is deprecated and will be removed from pandas in a future version. Use pandas.concat instead.\n",
      "  df = df.append(tmp)\n"
     ]
    },
    {
     "data": {
      "text/plain": "  0%|          | 0/516 [00:00<?, ?it/s]",
      "application/vnd.jupyter.widget-view+json": {
       "version_major": 2,
       "version_minor": 0,
       "model_id": "44af39c0ebc244fa93f02aea5e50b1b4"
      }
     },
     "metadata": {},
     "output_type": "display_data"
    },
    {
     "name": "stderr",
     "output_type": "stream",
     "text": [
      "/tmp/ipykernel_664/3675266627.py:30: FutureWarning: The frame.append method is deprecated and will be removed from pandas in a future version. Use pandas.concat instead.\n",
      "  df = df.append(tmp)\n"
     ]
    },
    {
     "data": {
      "text/plain": "  0%|          | 0/525 [00:00<?, ?it/s]",
      "application/vnd.jupyter.widget-view+json": {
       "version_major": 2,
       "version_minor": 0,
       "model_id": "76d96d9c02494bc295ec94ad94aefd6b"
      }
     },
     "metadata": {},
     "output_type": "display_data"
    },
    {
     "name": "stderr",
     "output_type": "stream",
     "text": [
      "/tmp/ipykernel_664/3675266627.py:30: FutureWarning: The frame.append method is deprecated and will be removed from pandas in a future version. Use pandas.concat instead.\n",
      "  df = df.append(tmp)\n"
     ]
    },
    {
     "name": "stdout",
     "output_type": "stream",
     "text": [
      "Epoch 0/18\n",
      "----------\n",
      "train Loss: 1.9553 Acc: 0.3776\n",
      "val Loss: 1.8152 Acc: 0.2942\n",
      "\n",
      "Epoch 1/18\n",
      "----------\n",
      "train Loss: 1.5986 Acc: 0.4593\n",
      "val Loss: 1.8403 Acc: 0.2819\n",
      "\n",
      "Epoch 2/18\n",
      "----------\n",
      "train Loss: 1.5008 Acc: 0.4929\n",
      "val Loss: 1.7855 Acc: 0.2048\n",
      "\n",
      "Epoch 3/18\n",
      "----------\n",
      "train Loss: 1.4479 Acc: 0.5119\n",
      "val Loss: 1.6835 Acc: 0.4714\n",
      "\n",
      "Epoch 4/18\n",
      "----------\n",
      "train Loss: 1.3769 Acc: 0.5348\n",
      "val Loss: 1.8613 Acc: 0.2810\n",
      "\n",
      "Epoch 5/18\n",
      "----------\n",
      "train Loss: 1.3207 Acc: 0.5548\n",
      "val Loss: 1.6908 Acc: 0.4747\n",
      "\n",
      "Epoch 6/18\n",
      "----------\n",
      "train Loss: 1.2751 Acc: 0.5695\n",
      "val Loss: 1.7404 Acc: 0.4178\n",
      "\n",
      "Epoch 7/18\n",
      "----------\n",
      "train Loss: 1.1964 Acc: 0.5938\n",
      "val Loss: 2.1894 Acc: 0.1555\n",
      "\n",
      "Epoch 8/18\n",
      "----------\n",
      "train Loss: 1.1768 Acc: 0.6080\n",
      "val Loss: 1.9136 Acc: 0.2192\n",
      "\n",
      "Epoch 9/18\n",
      "----------\n",
      "train Loss: 1.1725 Acc: 0.6133\n",
      "val Loss: 2.0486 Acc: 0.2063\n",
      "\n",
      "Epoch 10/18\n",
      "----------\n",
      "train Loss: 1.1582 Acc: 0.6139\n",
      "val Loss: 1.6701 Acc: 0.3982\n",
      "\n",
      "Epoch 11/18\n",
      "----------\n",
      "train Loss: 1.1562 Acc: 0.6136\n",
      "val Loss: 2.9388 Acc: 0.1781\n",
      "\n",
      "Epoch 12/18\n",
      "----------\n",
      "train Loss: 1.1426 Acc: 0.6176\n",
      "val Loss: 1.7502 Acc: 0.3621\n",
      "\n",
      "Epoch 13/18\n",
      "----------\n",
      "train Loss: 1.1331 Acc: 0.6311\n",
      "val Loss: 1.6398 Acc: 0.4374\n",
      "\n",
      "Epoch 14/18\n",
      "----------\n",
      "train Loss: 1.1196 Acc: 0.6295\n",
      "val Loss: 1.6775 Acc: 0.4904\n",
      "\n",
      "Epoch 15/18\n",
      "----------\n",
      "train Loss: 1.1235 Acc: 0.6306\n",
      "val Loss: 1.5797 Acc: 0.5014\n",
      "\n",
      "Epoch 16/18\n",
      "----------\n",
      "train Loss: 1.1199 Acc: 0.6385\n",
      "val Loss: 1.6288 Acc: 0.4692\n",
      "\n",
      "Epoch 17/18\n",
      "----------\n",
      "train Loss: 1.1169 Acc: 0.6320\n",
      "val Loss: 1.5785 Acc: 0.4983\n",
      "\n",
      "Epoch 18/18\n",
      "----------\n",
      "train Loss: 1.1255 Acc: 0.6320\n",
      "val Loss: 2.1159 Acc: 0.3012\n",
      "\n",
      "Training complete in 6m 24s\n",
      "Best val Acc: 0.501377\n"
     ]
    },
    {
     "data": {
      "text/plain": "  0%|          | 0/781 [00:00<?, ?it/s]",
      "application/vnd.jupyter.widget-view+json": {
       "version_major": 2,
       "version_minor": 0,
       "model_id": "10117667382d49a98bf74556d3fffebf"
      }
     },
     "metadata": {},
     "output_type": "display_data"
    },
    {
     "data": {
      "text/plain": "  0%|          | 0/669 [00:00<?, ?it/s]",
      "application/vnd.jupyter.widget-view+json": {
       "version_major": 2,
       "version_minor": 0,
       "model_id": "9f6f2125b31f4cb5b18d03dd3931dea6"
      }
     },
     "metadata": {},
     "output_type": "display_data"
    },
    {
     "data": {
      "text/plain": "  0%|          | 0/419 [00:00<?, ?it/s]",
      "application/vnd.jupyter.widget-view+json": {
       "version_major": 2,
       "version_minor": 0,
       "model_id": "977e1c1a54ae4ec5adf1da3809befcd5"
      }
     },
     "metadata": {},
     "output_type": "display_data"
    },
    {
     "data": {
      "text/plain": "  0%|          | 0/479 [00:00<?, ?it/s]",
      "application/vnd.jupyter.widget-view+json": {
       "version_major": 2,
       "version_minor": 0,
       "model_id": "72feabbed8ee4786ad1f1c4e9aca6d20"
      }
     },
     "metadata": {},
     "output_type": "display_data"
    },
    {
     "data": {
      "text/plain": "  0%|          | 0/475 [00:00<?, ?it/s]",
      "application/vnd.jupyter.widget-view+json": {
       "version_major": 2,
       "version_minor": 0,
       "model_id": "0e74c4d7cde643a9874f69362d56c9ab"
      }
     },
     "metadata": {},
     "output_type": "display_data"
    },
    {
     "data": {
      "text/plain": "  0%|          | 0/645 [00:00<?, ?it/s]",
      "application/vnd.jupyter.widget-view+json": {
       "version_major": 2,
       "version_minor": 0,
       "model_id": "6e169005f8e1467b8a66b5a5c0d21f3a"
      }
     },
     "metadata": {},
     "output_type": "display_data"
    },
    {
     "data": {
      "text/plain": "  0%|          | 0/1588 [00:00<?, ?it/s]",
      "application/vnd.jupyter.widget-view+json": {
       "version_major": 2,
       "version_minor": 0,
       "model_id": "7ae790b0265642b0963005f11533eda2"
      }
     },
     "metadata": {},
     "output_type": "display_data"
    },
    {
     "data": {
      "text/plain": "  0%|          | 0/708 [00:00<?, ?it/s]",
      "application/vnd.jupyter.widget-view+json": {
       "version_major": 2,
       "version_minor": 0,
       "model_id": "b8b4678eb901420b8a9d4789f7b7a1ff"
      }
     },
     "metadata": {},
     "output_type": "display_data"
    },
    {
     "data": {
      "text/plain": "  0%|          | 0/516 [00:00<?, ?it/s]",
      "application/vnd.jupyter.widget-view+json": {
       "version_major": 2,
       "version_minor": 0,
       "model_id": "4c30976c5d994549b79375a724c4bbbb"
      }
     },
     "metadata": {},
     "output_type": "display_data"
    },
    {
     "data": {
      "text/plain": "  0%|          | 0/525 [00:00<?, ?it/s]",
      "application/vnd.jupyter.widget-view+json": {
       "version_major": 2,
       "version_minor": 0,
       "model_id": "c4125d44c37e4bb5bc1829a610d184bf"
      }
     },
     "metadata": {},
     "output_type": "display_data"
    },
    {
     "data": {
      "text/plain": "  0%|          | 0/781 [00:00<?, ?it/s]",
      "application/vnd.jupyter.widget-view+json": {
       "version_major": 2,
       "version_minor": 0,
       "model_id": "05249ead436546a883627b552b0b2362"
      }
     },
     "metadata": {},
     "output_type": "display_data"
    },
    {
     "name": "stderr",
     "output_type": "stream",
     "text": [
      "/tmp/ipykernel_664/3675266627.py:30: FutureWarning: The frame.append method is deprecated and will be removed from pandas in a future version. Use pandas.concat instead.\n",
      "  df = df.append(tmp)\n"
     ]
    },
    {
     "data": {
      "text/plain": "  0%|          | 0/669 [00:00<?, ?it/s]",
      "application/vnd.jupyter.widget-view+json": {
       "version_major": 2,
       "version_minor": 0,
       "model_id": "6577848a6383466dac96bd953bbfdd44"
      }
     },
     "metadata": {},
     "output_type": "display_data"
    },
    {
     "data": {
      "text/plain": "  0%|          | 0/419 [00:00<?, ?it/s]",
      "application/vnd.jupyter.widget-view+json": {
       "version_major": 2,
       "version_minor": 0,
       "model_id": "97c5c8074690439fb2db6add778157c8"
      }
     },
     "metadata": {},
     "output_type": "display_data"
    },
    {
     "data": {
      "text/plain": "  0%|          | 0/479 [00:00<?, ?it/s]",
      "application/vnd.jupyter.widget-view+json": {
       "version_major": 2,
       "version_minor": 0,
       "model_id": "c71c6f810b3d4f32b0bc4648217a3018"
      }
     },
     "metadata": {},
     "output_type": "display_data"
    },
    {
     "name": "stderr",
     "output_type": "stream",
     "text": [
      "/tmp/ipykernel_664/3675266627.py:30: FutureWarning: The frame.append method is deprecated and will be removed from pandas in a future version. Use pandas.concat instead.\n",
      "  df = df.append(tmp)\n"
     ]
    },
    {
     "data": {
      "text/plain": "  0%|          | 0/475 [00:00<?, ?it/s]",
      "application/vnd.jupyter.widget-view+json": {
       "version_major": 2,
       "version_minor": 0,
       "model_id": "81c6c83d232041aa99f4106c96a56453"
      }
     },
     "metadata": {},
     "output_type": "display_data"
    },
    {
     "name": "stderr",
     "output_type": "stream",
     "text": [
      "/tmp/ipykernel_664/3675266627.py:30: FutureWarning: The frame.append method is deprecated and will be removed from pandas in a future version. Use pandas.concat instead.\n",
      "  df = df.append(tmp)\n"
     ]
    },
    {
     "data": {
      "text/plain": "  0%|          | 0/645 [00:00<?, ?it/s]",
      "application/vnd.jupyter.widget-view+json": {
       "version_major": 2,
       "version_minor": 0,
       "model_id": "d5f25e72a8a44bde9e5aaef182992f59"
      }
     },
     "metadata": {},
     "output_type": "display_data"
    },
    {
     "name": "stderr",
     "output_type": "stream",
     "text": [
      "/tmp/ipykernel_664/3675266627.py:30: FutureWarning: The frame.append method is deprecated and will be removed from pandas in a future version. Use pandas.concat instead.\n",
      "  df = df.append(tmp)\n"
     ]
    },
    {
     "data": {
      "text/plain": "  0%|          | 0/1588 [00:00<?, ?it/s]",
      "application/vnd.jupyter.widget-view+json": {
       "version_major": 2,
       "version_minor": 0,
       "model_id": "e0cc944de00b498f9b7e51983e66f65c"
      }
     },
     "metadata": {},
     "output_type": "display_data"
    },
    {
     "name": "stderr",
     "output_type": "stream",
     "text": [
      "/tmp/ipykernel_664/3675266627.py:30: FutureWarning: The frame.append method is deprecated and will be removed from pandas in a future version. Use pandas.concat instead.\n",
      "  df = df.append(tmp)\n"
     ]
    },
    {
     "data": {
      "text/plain": "  0%|          | 0/708 [00:00<?, ?it/s]",
      "application/vnd.jupyter.widget-view+json": {
       "version_major": 2,
       "version_minor": 0,
       "model_id": "84eaf3f534304e3dbf5e7950d1d1d70a"
      }
     },
     "metadata": {},
     "output_type": "display_data"
    },
    {
     "name": "stderr",
     "output_type": "stream",
     "text": [
      "/tmp/ipykernel_664/3675266627.py:30: FutureWarning: The frame.append method is deprecated and will be removed from pandas in a future version. Use pandas.concat instead.\n",
      "  df = df.append(tmp)\n"
     ]
    },
    {
     "data": {
      "text/plain": "  0%|          | 0/516 [00:00<?, ?it/s]",
      "application/vnd.jupyter.widget-view+json": {
       "version_major": 2,
       "version_minor": 0,
       "model_id": "4853d0624ee34052ab1d9fc50fe71c49"
      }
     },
     "metadata": {},
     "output_type": "display_data"
    },
    {
     "name": "stderr",
     "output_type": "stream",
     "text": [
      "/tmp/ipykernel_664/3675266627.py:30: FutureWarning: The frame.append method is deprecated and will be removed from pandas in a future version. Use pandas.concat instead.\n",
      "  df = df.append(tmp)\n"
     ]
    },
    {
     "data": {
      "text/plain": "  0%|          | 0/525 [00:00<?, ?it/s]",
      "application/vnd.jupyter.widget-view+json": {
       "version_major": 2,
       "version_minor": 0,
       "model_id": "c05beeb335344292ba3ead12501f4256"
      }
     },
     "metadata": {},
     "output_type": "display_data"
    },
    {
     "name": "stderr",
     "output_type": "stream",
     "text": [
      "/tmp/ipykernel_664/3675266627.py:30: FutureWarning: The frame.append method is deprecated and will be removed from pandas in a future version. Use pandas.concat instead.\n",
      "  df = df.append(tmp)\n"
     ]
    },
    {
     "name": "stdout",
     "output_type": "stream",
     "text": [
      "Epoch 0/18\n",
      "----------\n",
      "train Loss: 2.1561 Acc: 0.3799\n",
      "val Loss: 1.9441 Acc: 0.4625\n",
      "\n",
      "Epoch 1/18\n",
      "----------\n",
      "train Loss: 1.7414 Acc: 0.4610\n",
      "val Loss: 2.0897 Acc: 0.3373\n",
      "\n",
      "Epoch 2/18\n",
      "----------\n",
      "train Loss: 1.6367 Acc: 0.4842\n",
      "val Loss: 1.8476 Acc: 0.4662\n",
      "\n",
      "Epoch 3/18\n",
      "----------\n",
      "train Loss: 1.5740 Acc: 0.4992\n",
      "val Loss: 1.8406 Acc: 0.4552\n",
      "\n",
      "Epoch 4/18\n",
      "----------\n",
      "train Loss: 1.5199 Acc: 0.5124\n",
      "val Loss: 1.9049 Acc: 0.4282\n",
      "\n",
      "Epoch 5/18\n",
      "----------\n",
      "train Loss: 1.4588 Acc: 0.5376\n",
      "val Loss: 2.1589 Acc: 0.1576\n",
      "\n",
      "Epoch 6/18\n",
      "----------\n",
      "train Loss: 1.4344 Acc: 0.5283\n",
      "val Loss: 1.9410 Acc: 0.3955\n",
      "\n",
      "Epoch 7/18\n",
      "----------\n",
      "train Loss: 1.3373 Acc: 0.5842\n",
      "val Loss: 2.2298 Acc: 0.4500\n",
      "\n",
      "Epoch 8/18\n",
      "----------\n",
      "train Loss: 1.3049 Acc: 0.5888\n",
      "val Loss: 2.0956 Acc: 0.4631\n",
      "\n",
      "Epoch 9/18\n",
      "----------\n",
      "train Loss: 1.2961 Acc: 0.5938\n",
      "val Loss: 2.3435 Acc: 0.1751\n",
      "\n",
      "Epoch 10/18\n",
      "----------\n",
      "train Loss: 1.2876 Acc: 0.5969\n",
      "val Loss: 1.9373 Acc: 0.4613\n",
      "\n",
      "Epoch 11/18\n",
      "----------\n",
      "train Loss: 1.2789 Acc: 0.6040\n",
      "val Loss: 1.9469 Acc: 0.4545\n",
      "\n",
      "Epoch 12/18\n",
      "----------\n",
      "train Loss: 1.2674 Acc: 0.6051\n",
      "val Loss: 1.9032 Acc: 0.4601\n",
      "\n",
      "Epoch 13/18\n",
      "----------\n",
      "train Loss: 1.2620 Acc: 0.6099\n",
      "val Loss: 2.5209 Acc: 0.1426\n",
      "\n",
      "Epoch 14/18\n",
      "----------\n",
      "train Loss: 1.2603 Acc: 0.6097\n",
      "val Loss: 2.0640 Acc: 0.4796\n",
      "\n",
      "Epoch 15/18\n",
      "----------\n",
      "train Loss: 1.2470 Acc: 0.6145\n",
      "val Loss: 1.9799 Acc: 0.4894\n",
      "\n",
      "Epoch 16/18\n",
      "----------\n",
      "train Loss: 1.2514 Acc: 0.6164\n",
      "val Loss: 1.7786 Acc: 0.4570\n",
      "\n",
      "Epoch 17/18\n",
      "----------\n",
      "train Loss: 1.2504 Acc: 0.6125\n",
      "val Loss: 1.8804 Acc: 0.4111\n",
      "\n",
      "Epoch 18/18\n",
      "----------\n",
      "train Loss: 1.2518 Acc: 0.6116\n",
      "val Loss: 1.9287 Acc: 0.3949\n",
      "\n",
      "Training complete in 6m 29s\n",
      "Best val Acc: 0.489440\n"
     ]
    },
    {
     "data": {
      "text/plain": "  0%|          | 0/781 [00:00<?, ?it/s]",
      "application/vnd.jupyter.widget-view+json": {
       "version_major": 2,
       "version_minor": 0,
       "model_id": "95b6b6d86bb443d0ba2872364d6cd42f"
      }
     },
     "metadata": {},
     "output_type": "display_data"
    },
    {
     "data": {
      "text/plain": "  0%|          | 0/669 [00:00<?, ?it/s]",
      "application/vnd.jupyter.widget-view+json": {
       "version_major": 2,
       "version_minor": 0,
       "model_id": "8a35eae562d9450b8ebcfdee5f2d85ff"
      }
     },
     "metadata": {},
     "output_type": "display_data"
    },
    {
     "data": {
      "text/plain": "  0%|          | 0/419 [00:00<?, ?it/s]",
      "application/vnd.jupyter.widget-view+json": {
       "version_major": 2,
       "version_minor": 0,
       "model_id": "330c410bfceb4807848c0aa37cceb214"
      }
     },
     "metadata": {},
     "output_type": "display_data"
    },
    {
     "data": {
      "text/plain": "  0%|          | 0/479 [00:00<?, ?it/s]",
      "application/vnd.jupyter.widget-view+json": {
       "version_major": 2,
       "version_minor": 0,
       "model_id": "765a6337c2dd4b008320f088b2d26590"
      }
     },
     "metadata": {},
     "output_type": "display_data"
    },
    {
     "data": {
      "text/plain": "  0%|          | 0/475 [00:00<?, ?it/s]",
      "application/vnd.jupyter.widget-view+json": {
       "version_major": 2,
       "version_minor": 0,
       "model_id": "13c673f4e9874526805a546d203b4154"
      }
     },
     "metadata": {},
     "output_type": "display_data"
    },
    {
     "data": {
      "text/plain": "  0%|          | 0/645 [00:00<?, ?it/s]",
      "application/vnd.jupyter.widget-view+json": {
       "version_major": 2,
       "version_minor": 0,
       "model_id": "97a44c96f8ff48b9b6aa0c68e7bc6328"
      }
     },
     "metadata": {},
     "output_type": "display_data"
    },
    {
     "data": {
      "text/plain": "  0%|          | 0/1588 [00:00<?, ?it/s]",
      "application/vnd.jupyter.widget-view+json": {
       "version_major": 2,
       "version_minor": 0,
       "model_id": "da8bb25513cf4761a3ca13d94bba4bc4"
      }
     },
     "metadata": {},
     "output_type": "display_data"
    },
    {
     "data": {
      "text/plain": "  0%|          | 0/708 [00:00<?, ?it/s]",
      "application/vnd.jupyter.widget-view+json": {
       "version_major": 2,
       "version_minor": 0,
       "model_id": "0642ced066344310bee557829fb781ba"
      }
     },
     "metadata": {},
     "output_type": "display_data"
    },
    {
     "data": {
      "text/plain": "  0%|          | 0/516 [00:00<?, ?it/s]",
      "application/vnd.jupyter.widget-view+json": {
       "version_major": 2,
       "version_minor": 0,
       "model_id": "a3791cba03c04bebb9d998ab85fc8d26"
      }
     },
     "metadata": {},
     "output_type": "display_data"
    },
    {
     "data": {
      "text/plain": "  0%|          | 0/525 [00:00<?, ?it/s]",
      "application/vnd.jupyter.widget-view+json": {
       "version_major": 2,
       "version_minor": 0,
       "model_id": "e32439dc75ed4db0a76578f64803afc2"
      }
     },
     "metadata": {},
     "output_type": "display_data"
    },
    {
     "data": {
      "text/plain": "  0%|          | 0/781 [00:00<?, ?it/s]",
      "application/vnd.jupyter.widget-view+json": {
       "version_major": 2,
       "version_minor": 0,
       "model_id": "1d3ee6e0b6f94c5a82b6b2f8fb0ea4f8"
      }
     },
     "metadata": {},
     "output_type": "display_data"
    },
    {
     "name": "stderr",
     "output_type": "stream",
     "text": [
      "/tmp/ipykernel_664/3675266627.py:30: FutureWarning: The frame.append method is deprecated and will be removed from pandas in a future version. Use pandas.concat instead.\n",
      "  df = df.append(tmp)\n"
     ]
    },
    {
     "data": {
      "text/plain": "  0%|          | 0/669 [00:00<?, ?it/s]",
      "application/vnd.jupyter.widget-view+json": {
       "version_major": 2,
       "version_minor": 0,
       "model_id": "057f94c4f8584367aa0b068199734b23"
      }
     },
     "metadata": {},
     "output_type": "display_data"
    },
    {
     "data": {
      "text/plain": "  0%|          | 0/419 [00:00<?, ?it/s]",
      "application/vnd.jupyter.widget-view+json": {
       "version_major": 2,
       "version_minor": 0,
       "model_id": "2af71c9963634cab997e94ce132a8b4b"
      }
     },
     "metadata": {},
     "output_type": "display_data"
    },
    {
     "data": {
      "text/plain": "  0%|          | 0/479 [00:00<?, ?it/s]",
      "application/vnd.jupyter.widget-view+json": {
       "version_major": 2,
       "version_minor": 0,
       "model_id": "6ee7d6af66f247c1832d51fe9a59b741"
      }
     },
     "metadata": {},
     "output_type": "display_data"
    },
    {
     "name": "stderr",
     "output_type": "stream",
     "text": [
      "/tmp/ipykernel_664/3675266627.py:30: FutureWarning: The frame.append method is deprecated and will be removed from pandas in a future version. Use pandas.concat instead.\n",
      "  df = df.append(tmp)\n"
     ]
    },
    {
     "data": {
      "text/plain": "  0%|          | 0/475 [00:00<?, ?it/s]",
      "application/vnd.jupyter.widget-view+json": {
       "version_major": 2,
       "version_minor": 0,
       "model_id": "a6abb3eaf77243e69160f3d4d862eb3b"
      }
     },
     "metadata": {},
     "output_type": "display_data"
    },
    {
     "name": "stderr",
     "output_type": "stream",
     "text": [
      "/tmp/ipykernel_664/3675266627.py:30: FutureWarning: The frame.append method is deprecated and will be removed from pandas in a future version. Use pandas.concat instead.\n",
      "  df = df.append(tmp)\n"
     ]
    },
    {
     "data": {
      "text/plain": "  0%|          | 0/645 [00:00<?, ?it/s]",
      "application/vnd.jupyter.widget-view+json": {
       "version_major": 2,
       "version_minor": 0,
       "model_id": "e11a6e54d9b84f609d5739e7bf4b4718"
      }
     },
     "metadata": {},
     "output_type": "display_data"
    },
    {
     "name": "stderr",
     "output_type": "stream",
     "text": [
      "/tmp/ipykernel_664/3675266627.py:30: FutureWarning: The frame.append method is deprecated and will be removed from pandas in a future version. Use pandas.concat instead.\n",
      "  df = df.append(tmp)\n"
     ]
    },
    {
     "data": {
      "text/plain": "  0%|          | 0/1588 [00:00<?, ?it/s]",
      "application/vnd.jupyter.widget-view+json": {
       "version_major": 2,
       "version_minor": 0,
       "model_id": "a3b5b318d4ce4e82857b593dafc46bd5"
      }
     },
     "metadata": {},
     "output_type": "display_data"
    },
    {
     "name": "stderr",
     "output_type": "stream",
     "text": [
      "/tmp/ipykernel_664/3675266627.py:30: FutureWarning: The frame.append method is deprecated and will be removed from pandas in a future version. Use pandas.concat instead.\n",
      "  df = df.append(tmp)\n"
     ]
    },
    {
     "data": {
      "text/plain": "  0%|          | 0/708 [00:00<?, ?it/s]",
      "application/vnd.jupyter.widget-view+json": {
       "version_major": 2,
       "version_minor": 0,
       "model_id": "2b28c638522d4955991da0491e6a4769"
      }
     },
     "metadata": {},
     "output_type": "display_data"
    },
    {
     "name": "stderr",
     "output_type": "stream",
     "text": [
      "/tmp/ipykernel_664/3675266627.py:30: FutureWarning: The frame.append method is deprecated and will be removed from pandas in a future version. Use pandas.concat instead.\n",
      "  df = df.append(tmp)\n"
     ]
    },
    {
     "data": {
      "text/plain": "  0%|          | 0/516 [00:00<?, ?it/s]",
      "application/vnd.jupyter.widget-view+json": {
       "version_major": 2,
       "version_minor": 0,
       "model_id": "a904be17d4b24eb0a149adb34307977a"
      }
     },
     "metadata": {},
     "output_type": "display_data"
    },
    {
     "name": "stderr",
     "output_type": "stream",
     "text": [
      "/tmp/ipykernel_664/3675266627.py:30: FutureWarning: The frame.append method is deprecated and will be removed from pandas in a future version. Use pandas.concat instead.\n",
      "  df = df.append(tmp)\n"
     ]
    },
    {
     "data": {
      "text/plain": "  0%|          | 0/525 [00:00<?, ?it/s]",
      "application/vnd.jupyter.widget-view+json": {
       "version_major": 2,
       "version_minor": 0,
       "model_id": "d5d2c00c8fc3408b8d3b02d2a0ef0883"
      }
     },
     "metadata": {},
     "output_type": "display_data"
    },
    {
     "name": "stderr",
     "output_type": "stream",
     "text": [
      "/tmp/ipykernel_664/3675266627.py:30: FutureWarning: The frame.append method is deprecated and will be removed from pandas in a future version. Use pandas.concat instead.\n",
      "  df = df.append(tmp)\n"
     ]
    },
    {
     "name": "stdout",
     "output_type": "stream",
     "text": [
      "Epoch 0/18\n",
      "----------\n",
      "train Loss: 2.6008 Acc: 0.2490\n",
      "val Loss: 2.4930 Acc: 0.2620\n",
      "\n",
      "Epoch 1/18\n",
      "----------\n",
      "train Loss: 2.1590 Acc: 0.3061\n",
      "val Loss: 2.6424 Acc: 0.1197\n",
      "\n",
      "Epoch 2/18\n",
      "----------\n",
      "train Loss: 2.0548 Acc: 0.3256\n",
      "val Loss: 2.5766 Acc: 0.0949\n",
      "\n",
      "Epoch 3/18\n",
      "----------\n",
      "train Loss: 1.9869 Acc: 0.3468\n",
      "val Loss: 2.4883 Acc: 0.1656\n",
      "\n",
      "Epoch 4/18\n",
      "----------\n",
      "train Loss: 1.9126 Acc: 0.3867\n",
      "val Loss: 2.4623 Acc: 0.1671\n",
      "\n",
      "Epoch 5/18\n",
      "----------\n",
      "train Loss: 1.8440 Acc: 0.3966\n",
      "val Loss: 2.2995 Acc: 0.2495\n",
      "\n",
      "Epoch 6/18\n",
      "----------\n",
      "train Loss: 1.7779 Acc: 0.4163\n",
      "val Loss: 2.8456 Acc: 0.1607\n",
      "\n",
      "Epoch 7/18\n",
      "----------\n",
      "train Loss: 1.7171 Acc: 0.4423\n",
      "val Loss: 2.5132 Acc: 0.2694\n",
      "\n",
      "Epoch 8/18\n",
      "----------\n",
      "train Loss: 1.6799 Acc: 0.4556\n",
      "val Loss: 3.1400 Acc: 0.1622\n",
      "\n",
      "Epoch 9/18\n",
      "----------\n",
      "train Loss: 1.6650 Acc: 0.4618\n",
      "val Loss: 2.4895 Acc: 0.3128\n",
      "\n",
      "Epoch 10/18\n",
      "----------\n",
      "train Loss: 1.6566 Acc: 0.4658\n",
      "val Loss: 2.4004 Acc: 0.2804\n",
      "\n",
      "Epoch 11/18\n",
      "----------\n",
      "train Loss: 1.6501 Acc: 0.4655\n",
      "val Loss: 2.3408 Acc: 0.2629\n",
      "\n",
      "Epoch 12/18\n",
      "----------\n",
      "train Loss: 1.6380 Acc: 0.4706\n",
      "val Loss: 2.5373 Acc: 0.2599\n",
      "\n",
      "Epoch 13/18\n",
      "----------\n",
      "train Loss: 1.6308 Acc: 0.4729\n",
      "val Loss: 2.5249 Acc: 0.2752\n",
      "\n",
      "Epoch 14/18\n",
      "----------\n",
      "train Loss: 1.6223 Acc: 0.4774\n",
      "val Loss: 2.9878 Acc: 0.1815\n",
      "\n",
      "Epoch 15/18\n",
      "----------\n",
      "train Loss: 1.6168 Acc: 0.4782\n",
      "val Loss: 2.6890 Acc: 0.2752\n",
      "\n",
      "Epoch 16/18\n",
      "----------\n",
      "train Loss: 1.6132 Acc: 0.4802\n",
      "val Loss: 3.3484 Acc: 0.1641\n",
      "\n",
      "Epoch 17/18\n",
      "----------\n",
      "train Loss: 1.6123 Acc: 0.4785\n",
      "val Loss: 2.6062 Acc: 0.2908\n",
      "\n",
      "Epoch 18/18\n",
      "----------\n",
      "train Loss: 1.6166 Acc: 0.4723\n",
      "val Loss: 2.3107 Acc: 0.3496\n",
      "\n",
      "Training complete in 6m 35s\n",
      "Best val Acc: 0.349556\n"
     ]
    },
    {
     "data": {
      "text/plain": "  0%|          | 0/781 [00:00<?, ?it/s]",
      "application/vnd.jupyter.widget-view+json": {
       "version_major": 2,
       "version_minor": 0,
       "model_id": "19f2a67cca6b4e2d81af571941865547"
      }
     },
     "metadata": {},
     "output_type": "display_data"
    },
    {
     "data": {
      "text/plain": "  0%|          | 0/669 [00:00<?, ?it/s]",
      "application/vnd.jupyter.widget-view+json": {
       "version_major": 2,
       "version_minor": 0,
       "model_id": "299be9d4307e401aa42bb958f410bc44"
      }
     },
     "metadata": {},
     "output_type": "display_data"
    },
    {
     "data": {
      "text/plain": "  0%|          | 0/419 [00:00<?, ?it/s]",
      "application/vnd.jupyter.widget-view+json": {
       "version_major": 2,
       "version_minor": 0,
       "model_id": "64c142b97c1847bc8f6ca489fb160bbf"
      }
     },
     "metadata": {},
     "output_type": "display_data"
    },
    {
     "data": {
      "text/plain": "  0%|          | 0/479 [00:00<?, ?it/s]",
      "application/vnd.jupyter.widget-view+json": {
       "version_major": 2,
       "version_minor": 0,
       "model_id": "c8a20c8c6d534d4bb99676d645f180a1"
      }
     },
     "metadata": {},
     "output_type": "display_data"
    },
    {
     "data": {
      "text/plain": "  0%|          | 0/475 [00:00<?, ?it/s]",
      "application/vnd.jupyter.widget-view+json": {
       "version_major": 2,
       "version_minor": 0,
       "model_id": "a71c94c840af4bd19b5b31575ad80440"
      }
     },
     "metadata": {},
     "output_type": "display_data"
    },
    {
     "data": {
      "text/plain": "  0%|          | 0/645 [00:00<?, ?it/s]",
      "application/vnd.jupyter.widget-view+json": {
       "version_major": 2,
       "version_minor": 0,
       "model_id": "8c88ffb7d02b4e95ac31776a79ebae1b"
      }
     },
     "metadata": {},
     "output_type": "display_data"
    },
    {
     "data": {
      "text/plain": "  0%|          | 0/1588 [00:00<?, ?it/s]",
      "application/vnd.jupyter.widget-view+json": {
       "version_major": 2,
       "version_minor": 0,
       "model_id": "45edf48e12a3417190d51980d09f25ac"
      }
     },
     "metadata": {},
     "output_type": "display_data"
    },
    {
     "data": {
      "text/plain": "  0%|          | 0/708 [00:00<?, ?it/s]",
      "application/vnd.jupyter.widget-view+json": {
       "version_major": 2,
       "version_minor": 0,
       "model_id": "30fa5db61eb24f069f10d1a49cc59813"
      }
     },
     "metadata": {},
     "output_type": "display_data"
    },
    {
     "data": {
      "text/plain": "  0%|          | 0/516 [00:00<?, ?it/s]",
      "application/vnd.jupyter.widget-view+json": {
       "version_major": 2,
       "version_minor": 0,
       "model_id": "d105a99c9514453b9c0f14fa0041ef1b"
      }
     },
     "metadata": {},
     "output_type": "display_data"
    },
    {
     "data": {
      "text/plain": "  0%|          | 0/525 [00:00<?, ?it/s]",
      "application/vnd.jupyter.widget-view+json": {
       "version_major": 2,
       "version_minor": 0,
       "model_id": "7c908e44ba88428ab7d98042bb004fbf"
      }
     },
     "metadata": {},
     "output_type": "display_data"
    },
    {
     "data": {
      "text/plain": "  0%|          | 0/781 [00:00<?, ?it/s]",
      "application/vnd.jupyter.widget-view+json": {
       "version_major": 2,
       "version_minor": 0,
       "model_id": "ee52c89771d14630a3ebbe9f709e403c"
      }
     },
     "metadata": {},
     "output_type": "display_data"
    },
    {
     "name": "stderr",
     "output_type": "stream",
     "text": [
      "/tmp/ipykernel_664/3675266627.py:30: FutureWarning: The frame.append method is deprecated and will be removed from pandas in a future version. Use pandas.concat instead.\n",
      "  df = df.append(tmp)\n"
     ]
    },
    {
     "data": {
      "text/plain": "  0%|          | 0/669 [00:00<?, ?it/s]",
      "application/vnd.jupyter.widget-view+json": {
       "version_major": 2,
       "version_minor": 0,
       "model_id": "37b62de832a64d708d5c4c2f14acfa4c"
      }
     },
     "metadata": {},
     "output_type": "display_data"
    },
    {
     "data": {
      "text/plain": "  0%|          | 0/419 [00:00<?, ?it/s]",
      "application/vnd.jupyter.widget-view+json": {
       "version_major": 2,
       "version_minor": 0,
       "model_id": "2ab9ec3c499740558683a87b0a504b97"
      }
     },
     "metadata": {},
     "output_type": "display_data"
    },
    {
     "data": {
      "text/plain": "  0%|          | 0/479 [00:00<?, ?it/s]",
      "application/vnd.jupyter.widget-view+json": {
       "version_major": 2,
       "version_minor": 0,
       "model_id": "83cd7f221fe24232b9f6f169ec7b48e0"
      }
     },
     "metadata": {},
     "output_type": "display_data"
    },
    {
     "name": "stderr",
     "output_type": "stream",
     "text": [
      "/tmp/ipykernel_664/3675266627.py:30: FutureWarning: The frame.append method is deprecated and will be removed from pandas in a future version. Use pandas.concat instead.\n",
      "  df = df.append(tmp)\n"
     ]
    },
    {
     "data": {
      "text/plain": "  0%|          | 0/475 [00:00<?, ?it/s]",
      "application/vnd.jupyter.widget-view+json": {
       "version_major": 2,
       "version_minor": 0,
       "model_id": "5ac40d82c66048fc9d1444ee9010384b"
      }
     },
     "metadata": {},
     "output_type": "display_data"
    },
    {
     "name": "stderr",
     "output_type": "stream",
     "text": [
      "/tmp/ipykernel_664/3675266627.py:30: FutureWarning: The frame.append method is deprecated and will be removed from pandas in a future version. Use pandas.concat instead.\n",
      "  df = df.append(tmp)\n"
     ]
    },
    {
     "data": {
      "text/plain": "  0%|          | 0/645 [00:00<?, ?it/s]",
      "application/vnd.jupyter.widget-view+json": {
       "version_major": 2,
       "version_minor": 0,
       "model_id": "0496c9ec28264361b2b1a033b51c35c8"
      }
     },
     "metadata": {},
     "output_type": "display_data"
    },
    {
     "name": "stderr",
     "output_type": "stream",
     "text": [
      "/tmp/ipykernel_664/3675266627.py:30: FutureWarning: The frame.append method is deprecated and will be removed from pandas in a future version. Use pandas.concat instead.\n",
      "  df = df.append(tmp)\n"
     ]
    },
    {
     "data": {
      "text/plain": "  0%|          | 0/1588 [00:00<?, ?it/s]",
      "application/vnd.jupyter.widget-view+json": {
       "version_major": 2,
       "version_minor": 0,
       "model_id": "ef7c438279ae4b8aa2065dc55cb6e8fc"
      }
     },
     "metadata": {},
     "output_type": "display_data"
    },
    {
     "name": "stderr",
     "output_type": "stream",
     "text": [
      "/tmp/ipykernel_664/3675266627.py:30: FutureWarning: The frame.append method is deprecated and will be removed from pandas in a future version. Use pandas.concat instead.\n",
      "  df = df.append(tmp)\n"
     ]
    },
    {
     "data": {
      "text/plain": "  0%|          | 0/708 [00:00<?, ?it/s]",
      "application/vnd.jupyter.widget-view+json": {
       "version_major": 2,
       "version_minor": 0,
       "model_id": "8a0c37410b7b4fb08b1d098503b1bd65"
      }
     },
     "metadata": {},
     "output_type": "display_data"
    },
    {
     "name": "stderr",
     "output_type": "stream",
     "text": [
      "/tmp/ipykernel_664/3675266627.py:30: FutureWarning: The frame.append method is deprecated and will be removed from pandas in a future version. Use pandas.concat instead.\n",
      "  df = df.append(tmp)\n"
     ]
    },
    {
     "data": {
      "text/plain": "  0%|          | 0/516 [00:00<?, ?it/s]",
      "application/vnd.jupyter.widget-view+json": {
       "version_major": 2,
       "version_minor": 0,
       "model_id": "80ff21b5e3694df9982308856d8095d8"
      }
     },
     "metadata": {},
     "output_type": "display_data"
    },
    {
     "name": "stderr",
     "output_type": "stream",
     "text": [
      "/tmp/ipykernel_664/3675266627.py:30: FutureWarning: The frame.append method is deprecated and will be removed from pandas in a future version. Use pandas.concat instead.\n",
      "  df = df.append(tmp)\n"
     ]
    },
    {
     "data": {
      "text/plain": "  0%|          | 0/525 [00:00<?, ?it/s]",
      "application/vnd.jupyter.widget-view+json": {
       "version_major": 2,
       "version_minor": 0,
       "model_id": "985cfc69b19f495fa7ddbaccd5da0423"
      }
     },
     "metadata": {},
     "output_type": "display_data"
    },
    {
     "name": "stderr",
     "output_type": "stream",
     "text": [
      "/tmp/ipykernel_664/3675266627.py:30: FutureWarning: The frame.append method is deprecated and will be removed from pandas in a future version. Use pandas.concat instead.\n",
      "  df = df.append(tmp)\n"
     ]
    },
    {
     "name": "stdout",
     "output_type": "stream",
     "text": [
      "Epoch 0/18\n",
      "----------\n",
      "train Loss: 3.0189 Acc: 0.1939\n",
      "val Loss: 3.0340 Acc: 0.0805\n",
      "\n",
      "Epoch 1/18\n",
      "----------\n",
      "train Loss: 2.5913 Acc: 0.2549\n",
      "val Loss: 2.8673 Acc: 0.1564\n",
      "\n",
      "Epoch 2/18\n",
      "----------\n",
      "train Loss: 2.4943 Acc: 0.2716\n",
      "val Loss: 2.7391 Acc: 0.2280\n",
      "\n",
      "Epoch 3/18\n",
      "----------\n",
      "train Loss: 2.4019 Acc: 0.3019\n",
      "val Loss: 2.8473 Acc: 0.1938\n",
      "\n",
      "Epoch 4/18\n",
      "----------\n",
      "train Loss: 2.3142 Acc: 0.3183\n",
      "val Loss: 2.7579 Acc: 0.2372\n",
      "\n",
      "Epoch 5/18\n",
      "----------\n",
      "train Loss: 2.2529 Acc: 0.3378\n",
      "val Loss: 2.9740 Acc: 0.2317\n",
      "\n",
      "Epoch 6/18\n",
      "----------\n",
      "train Loss: 2.1882 Acc: 0.3482\n",
      "val Loss: 2.8024 Acc: 0.1310\n",
      "\n",
      "Epoch 7/18\n",
      "----------\n",
      "train Loss: 2.1129 Acc: 0.3697\n",
      "val Loss: 2.7726 Acc: 0.2192\n",
      "\n",
      "Epoch 8/18\n",
      "----------\n",
      "train Loss: 2.0861 Acc: 0.3728\n",
      "val Loss: 2.8198 Acc: 0.2311\n",
      "\n",
      "Epoch 9/18\n",
      "----------\n",
      "train Loss: 2.0677 Acc: 0.3804\n",
      "val Loss: 4.0368 Acc: 0.0943\n",
      "\n",
      "Epoch 10/18\n",
      "----------\n",
      "train Loss: 2.0658 Acc: 0.3852\n",
      "val Loss: 3.5909 Acc: 0.1044\n",
      "\n",
      "Epoch 11/18\n",
      "----------\n",
      "train Loss: 2.0544 Acc: 0.3833\n",
      "val Loss: 3.0910 Acc: 0.2400\n",
      "\n",
      "Epoch 12/18\n",
      "----------\n",
      "train Loss: 2.0457 Acc: 0.3878\n",
      "val Loss: 2.7192 Acc: 0.2100\n",
      "\n",
      "Epoch 13/18\n",
      "----------\n",
      "train Loss: 2.0441 Acc: 0.3946\n",
      "val Loss: 2.7705 Acc: 0.2663\n",
      "\n",
      "Epoch 14/18\n",
      "----------\n",
      "train Loss: 2.0210 Acc: 0.3991\n",
      "val Loss: 2.5427 Acc: 0.2945\n",
      "\n",
      "Epoch 15/18\n",
      "----------\n",
      "train Loss: 2.0267 Acc: 0.4008\n",
      "val Loss: 3.6513 Acc: 0.1188\n",
      "\n",
      "Epoch 16/18\n",
      "----------\n",
      "train Loss: 2.0244 Acc: 0.4019\n",
      "val Loss: 2.6222 Acc: 0.2874\n",
      "\n",
      "Epoch 17/18\n",
      "----------\n",
      "train Loss: 2.0209 Acc: 0.3985\n",
      "val Loss: 2.7271 Acc: 0.2736\n",
      "\n",
      "Epoch 18/18\n",
      "----------\n",
      "train Loss: 2.0169 Acc: 0.4011\n",
      "val Loss: 2.6546 Acc: 0.2880\n",
      "\n",
      "Training complete in 6m 43s\n",
      "Best val Acc: 0.294460\n"
     ]
    },
    {
     "data": {
      "text/plain": "  0%|          | 0/781 [00:00<?, ?it/s]",
      "application/vnd.jupyter.widget-view+json": {
       "version_major": 2,
       "version_minor": 0,
       "model_id": "b345965afff948f4b31d80202cf434b5"
      }
     },
     "metadata": {},
     "output_type": "display_data"
    },
    {
     "data": {
      "text/plain": "  0%|          | 0/669 [00:00<?, ?it/s]",
      "application/vnd.jupyter.widget-view+json": {
       "version_major": 2,
       "version_minor": 0,
       "model_id": "b1dcf71166b14e52902b9b29a4ee0cce"
      }
     },
     "metadata": {},
     "output_type": "display_data"
    },
    {
     "data": {
      "text/plain": "  0%|          | 0/419 [00:00<?, ?it/s]",
      "application/vnd.jupyter.widget-view+json": {
       "version_major": 2,
       "version_minor": 0,
       "model_id": "18cc06e4e8914f14a633d57c4a277c8f"
      }
     },
     "metadata": {},
     "output_type": "display_data"
    },
    {
     "data": {
      "text/plain": "  0%|          | 0/479 [00:00<?, ?it/s]",
      "application/vnd.jupyter.widget-view+json": {
       "version_major": 2,
       "version_minor": 0,
       "model_id": "e1ff26afeeeb452dbaf91af585c70aa7"
      }
     },
     "metadata": {},
     "output_type": "display_data"
    },
    {
     "data": {
      "text/plain": "  0%|          | 0/475 [00:00<?, ?it/s]",
      "application/vnd.jupyter.widget-view+json": {
       "version_major": 2,
       "version_minor": 0,
       "model_id": "3d5039e686314fc3a36f13feb5d1f6f4"
      }
     },
     "metadata": {},
     "output_type": "display_data"
    },
    {
     "data": {
      "text/plain": "  0%|          | 0/645 [00:00<?, ?it/s]",
      "application/vnd.jupyter.widget-view+json": {
       "version_major": 2,
       "version_minor": 0,
       "model_id": "04f91178f77543a6af1369e12c544da8"
      }
     },
     "metadata": {},
     "output_type": "display_data"
    },
    {
     "data": {
      "text/plain": "  0%|          | 0/1588 [00:00<?, ?it/s]",
      "application/vnd.jupyter.widget-view+json": {
       "version_major": 2,
       "version_minor": 0,
       "model_id": "dc9e8704099e4348a08e8d7e801500a9"
      }
     },
     "metadata": {},
     "output_type": "display_data"
    },
    {
     "data": {
      "text/plain": "  0%|          | 0/708 [00:00<?, ?it/s]",
      "application/vnd.jupyter.widget-view+json": {
       "version_major": 2,
       "version_minor": 0,
       "model_id": "7e7e85c3d80b464099ac57b7cc21a62f"
      }
     },
     "metadata": {},
     "output_type": "display_data"
    },
    {
     "data": {
      "text/plain": "  0%|          | 0/516 [00:00<?, ?it/s]",
      "application/vnd.jupyter.widget-view+json": {
       "version_major": 2,
       "version_minor": 0,
       "model_id": "e08303fc64354c4a834cccc291ba28ec"
      }
     },
     "metadata": {},
     "output_type": "display_data"
    },
    {
     "data": {
      "text/plain": "  0%|          | 0/525 [00:00<?, ?it/s]",
      "application/vnd.jupyter.widget-view+json": {
       "version_major": 2,
       "version_minor": 0,
       "model_id": "b7ab7c4871154abda2228a9d62ecd99c"
      }
     },
     "metadata": {},
     "output_type": "display_data"
    },
    {
     "data": {
      "text/plain": "  0%|          | 0/781 [00:00<?, ?it/s]",
      "application/vnd.jupyter.widget-view+json": {
       "version_major": 2,
       "version_minor": 0,
       "model_id": "67bae1902e4c423aa7f3e982fa7f85e1"
      }
     },
     "metadata": {},
     "output_type": "display_data"
    },
    {
     "name": "stderr",
     "output_type": "stream",
     "text": [
      "/tmp/ipykernel_664/3675266627.py:30: FutureWarning: The frame.append method is deprecated and will be removed from pandas in a future version. Use pandas.concat instead.\n",
      "  df = df.append(tmp)\n"
     ]
    },
    {
     "data": {
      "text/plain": "  0%|          | 0/669 [00:00<?, ?it/s]",
      "application/vnd.jupyter.widget-view+json": {
       "version_major": 2,
       "version_minor": 0,
       "model_id": "bbc4a9e8782a41dd898370a00383fec0"
      }
     },
     "metadata": {},
     "output_type": "display_data"
    },
    {
     "data": {
      "text/plain": "  0%|          | 0/419 [00:00<?, ?it/s]",
      "application/vnd.jupyter.widget-view+json": {
       "version_major": 2,
       "version_minor": 0,
       "model_id": "17a2f42e2e44449894b05af3e26c854c"
      }
     },
     "metadata": {},
     "output_type": "display_data"
    },
    {
     "data": {
      "text/plain": "  0%|          | 0/479 [00:00<?, ?it/s]",
      "application/vnd.jupyter.widget-view+json": {
       "version_major": 2,
       "version_minor": 0,
       "model_id": "63a08561a22746639ec1a7dbe06291df"
      }
     },
     "metadata": {},
     "output_type": "display_data"
    },
    {
     "name": "stderr",
     "output_type": "stream",
     "text": [
      "/tmp/ipykernel_664/3675266627.py:30: FutureWarning: The frame.append method is deprecated and will be removed from pandas in a future version. Use pandas.concat instead.\n",
      "  df = df.append(tmp)\n"
     ]
    },
    {
     "data": {
      "text/plain": "  0%|          | 0/475 [00:00<?, ?it/s]",
      "application/vnd.jupyter.widget-view+json": {
       "version_major": 2,
       "version_minor": 0,
       "model_id": "2709ed270a704e3fb1284e56bf997147"
      }
     },
     "metadata": {},
     "output_type": "display_data"
    },
    {
     "name": "stderr",
     "output_type": "stream",
     "text": [
      "/tmp/ipykernel_664/3675266627.py:30: FutureWarning: The frame.append method is deprecated and will be removed from pandas in a future version. Use pandas.concat instead.\n",
      "  df = df.append(tmp)\n"
     ]
    },
    {
     "data": {
      "text/plain": "  0%|          | 0/645 [00:00<?, ?it/s]",
      "application/vnd.jupyter.widget-view+json": {
       "version_major": 2,
       "version_minor": 0,
       "model_id": "61f49c973aba40fbb2911d7df3622c4d"
      }
     },
     "metadata": {},
     "output_type": "display_data"
    },
    {
     "name": "stderr",
     "output_type": "stream",
     "text": [
      "/tmp/ipykernel_664/3675266627.py:30: FutureWarning: The frame.append method is deprecated and will be removed from pandas in a future version. Use pandas.concat instead.\n",
      "  df = df.append(tmp)\n"
     ]
    },
    {
     "data": {
      "text/plain": "  0%|          | 0/1588 [00:00<?, ?it/s]",
      "application/vnd.jupyter.widget-view+json": {
       "version_major": 2,
       "version_minor": 0,
       "model_id": "4206ff5a05b04332bb0cd07b5bc0f8c3"
      }
     },
     "metadata": {},
     "output_type": "display_data"
    },
    {
     "name": "stderr",
     "output_type": "stream",
     "text": [
      "/tmp/ipykernel_664/3675266627.py:30: FutureWarning: The frame.append method is deprecated and will be removed from pandas in a future version. Use pandas.concat instead.\n",
      "  df = df.append(tmp)\n"
     ]
    },
    {
     "data": {
      "text/plain": "  0%|          | 0/708 [00:00<?, ?it/s]",
      "application/vnd.jupyter.widget-view+json": {
       "version_major": 2,
       "version_minor": 0,
       "model_id": "c86341033cee4e1ca9be867ceeb94212"
      }
     },
     "metadata": {},
     "output_type": "display_data"
    },
    {
     "name": "stderr",
     "output_type": "stream",
     "text": [
      "/tmp/ipykernel_664/3675266627.py:30: FutureWarning: The frame.append method is deprecated and will be removed from pandas in a future version. Use pandas.concat instead.\n",
      "  df = df.append(tmp)\n"
     ]
    },
    {
     "data": {
      "text/plain": "  0%|          | 0/516 [00:00<?, ?it/s]",
      "application/vnd.jupyter.widget-view+json": {
       "version_major": 2,
       "version_minor": 0,
       "model_id": "34e9a4b2dc7f45838f293b9c0e78a2b2"
      }
     },
     "metadata": {},
     "output_type": "display_data"
    },
    {
     "name": "stderr",
     "output_type": "stream",
     "text": [
      "/tmp/ipykernel_664/3675266627.py:30: FutureWarning: The frame.append method is deprecated and will be removed from pandas in a future version. Use pandas.concat instead.\n",
      "  df = df.append(tmp)\n"
     ]
    },
    {
     "data": {
      "text/plain": "  0%|          | 0/525 [00:00<?, ?it/s]",
      "application/vnd.jupyter.widget-view+json": {
       "version_major": 2,
       "version_minor": 0,
       "model_id": "e72f7f7728dd4a32b430d09b6a9cb138"
      }
     },
     "metadata": {},
     "output_type": "display_data"
    },
    {
     "name": "stderr",
     "output_type": "stream",
     "text": [
      "/tmp/ipykernel_664/3675266627.py:30: FutureWarning: The frame.append method is deprecated and will be removed from pandas in a future version. Use pandas.concat instead.\n",
      "  df = df.append(tmp)\n"
     ]
    },
    {
     "name": "stdout",
     "output_type": "stream",
     "text": [
      "Epoch 0/18\n",
      "----------\n",
      "train Loss: 3.3608 Acc: 0.1721\n",
      "val Loss: 3.1302 Acc: 0.2216\n",
      "\n",
      "Epoch 1/18\n",
      "----------\n",
      "train Loss: 2.8292 Acc: 0.2428\n",
      "val Loss: 3.0802 Acc: 0.2198\n",
      "\n",
      "Epoch 2/18\n",
      "----------\n",
      "train Loss: 2.6773 Acc: 0.2552\n",
      "val Loss: 2.9291 Acc: 0.2455\n",
      "\n",
      "Epoch 3/18\n",
      "----------\n",
      "train Loss: 2.6116 Acc: 0.2637\n",
      "val Loss: 3.3728 Acc: 0.0808\n",
      "\n",
      "Epoch 4/18\n",
      "----------\n",
      "train Loss: 2.5380 Acc: 0.2812\n",
      "val Loss: 2.9909 Acc: 0.1938\n",
      "\n",
      "Epoch 5/18\n",
      "----------\n",
      "train Loss: 2.4764 Acc: 0.2959\n",
      "val Loss: 3.2564 Acc: 0.2137\n",
      "\n",
      "Epoch 6/18\n",
      "----------\n",
      "train Loss: 2.4150 Acc: 0.3137\n",
      "val Loss: 3.0037 Acc: 0.2029\n",
      "\n",
      "Epoch 7/18\n",
      "----------\n",
      "train Loss: 2.3337 Acc: 0.3363\n",
      "val Loss: 3.7886 Acc: 0.0857\n",
      "\n",
      "Epoch 8/18\n",
      "----------\n",
      "train Loss: 2.3106 Acc: 0.3431\n",
      "val Loss: 3.0514 Acc: 0.2130\n",
      "\n",
      "Epoch 9/18\n",
      "----------\n",
      "train Loss: 2.3013 Acc: 0.3414\n",
      "val Loss: 4.2594 Acc: 0.0830\n",
      "\n",
      "Epoch 10/18\n",
      "----------\n",
      "train Loss: 2.2922 Acc: 0.3465\n",
      "val Loss: 2.7562 Acc: 0.2314\n",
      "\n",
      "Epoch 11/18\n",
      "----------\n",
      "train Loss: 2.2773 Acc: 0.3491\n",
      "val Loss: 3.3527 Acc: 0.1191\n",
      "\n",
      "Epoch 12/18\n",
      "----------\n",
      "train Loss: 2.2725 Acc: 0.3559\n",
      "val Loss: 2.8676 Acc: 0.2250\n",
      "\n",
      "Epoch 13/18\n",
      "----------\n",
      "train Loss: 2.2561 Acc: 0.3601\n",
      "val Loss: 2.8079 Acc: 0.2706\n",
      "\n",
      "Epoch 14/18\n",
      "----------\n",
      "train Loss: 2.2579 Acc: 0.3530\n",
      "val Loss: 2.7812 Acc: 0.2715\n",
      "\n",
      "Epoch 15/18\n",
      "----------\n",
      "train Loss: 2.2425 Acc: 0.3601\n",
      "val Loss: 2.7927 Acc: 0.2489\n",
      "\n",
      "Epoch 16/18\n",
      "----------\n",
      "train Loss: 2.2453 Acc: 0.3612\n",
      "val Loss: 2.7231 Acc: 0.2834\n",
      "\n",
      "Epoch 17/18\n",
      "----------\n",
      "train Loss: 2.2460 Acc: 0.3598\n",
      "val Loss: 2.7023 Acc: 0.2792\n",
      "\n",
      "Epoch 18/18\n",
      "----------\n",
      "train Loss: 2.2432 Acc: 0.3590\n",
      "val Loss: 2.7722 Acc: 0.2666\n",
      "\n",
      "Training complete in 6m 37s\n",
      "Best val Acc: 0.283440\n"
     ]
    },
    {
     "data": {
      "text/plain": "  0%|          | 0/781 [00:00<?, ?it/s]",
      "application/vnd.jupyter.widget-view+json": {
       "version_major": 2,
       "version_minor": 0,
       "model_id": "ef58d0ab821f49d1b5febe771e649e9e"
      }
     },
     "metadata": {},
     "output_type": "display_data"
    },
    {
     "data": {
      "text/plain": "  0%|          | 0/669 [00:00<?, ?it/s]",
      "application/vnd.jupyter.widget-view+json": {
       "version_major": 2,
       "version_minor": 0,
       "model_id": "db1b02045c624f3fa81fd28257f5604a"
      }
     },
     "metadata": {},
     "output_type": "display_data"
    },
    {
     "data": {
      "text/plain": "  0%|          | 0/419 [00:00<?, ?it/s]",
      "application/vnd.jupyter.widget-view+json": {
       "version_major": 2,
       "version_minor": 0,
       "model_id": "03315b9c5c24495c8649d2a5a1fcfe97"
      }
     },
     "metadata": {},
     "output_type": "display_data"
    },
    {
     "data": {
      "text/plain": "  0%|          | 0/479 [00:00<?, ?it/s]",
      "application/vnd.jupyter.widget-view+json": {
       "version_major": 2,
       "version_minor": 0,
       "model_id": "57689119b9554cf583e06de7414d8f55"
      }
     },
     "metadata": {},
     "output_type": "display_data"
    },
    {
     "data": {
      "text/plain": "  0%|          | 0/475 [00:00<?, ?it/s]",
      "application/vnd.jupyter.widget-view+json": {
       "version_major": 2,
       "version_minor": 0,
       "model_id": "30756e5e891945cfb45f75096dce5f70"
      }
     },
     "metadata": {},
     "output_type": "display_data"
    },
    {
     "data": {
      "text/plain": "  0%|          | 0/645 [00:00<?, ?it/s]",
      "application/vnd.jupyter.widget-view+json": {
       "version_major": 2,
       "version_minor": 0,
       "model_id": "cc59be80f215443eb5575b2308236d81"
      }
     },
     "metadata": {},
     "output_type": "display_data"
    },
    {
     "data": {
      "text/plain": "  0%|          | 0/1588 [00:00<?, ?it/s]",
      "application/vnd.jupyter.widget-view+json": {
       "version_major": 2,
       "version_minor": 0,
       "model_id": "b84836e74e5c470ab92753a87500f10b"
      }
     },
     "metadata": {},
     "output_type": "display_data"
    },
    {
     "data": {
      "text/plain": "  0%|          | 0/708 [00:00<?, ?it/s]",
      "application/vnd.jupyter.widget-view+json": {
       "version_major": 2,
       "version_minor": 0,
       "model_id": "d497ae4036394cd38648b75bc9b49e56"
      }
     },
     "metadata": {},
     "output_type": "display_data"
    },
    {
     "data": {
      "text/plain": "  0%|          | 0/516 [00:00<?, ?it/s]",
      "application/vnd.jupyter.widget-view+json": {
       "version_major": 2,
       "version_minor": 0,
       "model_id": "12b0d0174eb84bf58517c228fb473ae7"
      }
     },
     "metadata": {},
     "output_type": "display_data"
    },
    {
     "data": {
      "text/plain": "  0%|          | 0/525 [00:00<?, ?it/s]",
      "application/vnd.jupyter.widget-view+json": {
       "version_major": 2,
       "version_minor": 0,
       "model_id": "69a8145da3734711973d8eb316cb287f"
      }
     },
     "metadata": {},
     "output_type": "display_data"
    },
    {
     "data": {
      "text/plain": "  0%|          | 0/781 [00:00<?, ?it/s]",
      "application/vnd.jupyter.widget-view+json": {
       "version_major": 2,
       "version_minor": 0,
       "model_id": "dd0a64848a234975a286904472abde20"
      }
     },
     "metadata": {},
     "output_type": "display_data"
    },
    {
     "name": "stderr",
     "output_type": "stream",
     "text": [
      "/tmp/ipykernel_664/3675266627.py:30: FutureWarning: The frame.append method is deprecated and will be removed from pandas in a future version. Use pandas.concat instead.\n",
      "  df = df.append(tmp)\n"
     ]
    },
    {
     "data": {
      "text/plain": "  0%|          | 0/669 [00:00<?, ?it/s]",
      "application/vnd.jupyter.widget-view+json": {
       "version_major": 2,
       "version_minor": 0,
       "model_id": "15337990ea8e4d6ab488860d6ad77943"
      }
     },
     "metadata": {},
     "output_type": "display_data"
    },
    {
     "data": {
      "text/plain": "  0%|          | 0/419 [00:00<?, ?it/s]",
      "application/vnd.jupyter.widget-view+json": {
       "version_major": 2,
       "version_minor": 0,
       "model_id": "3ea4f386dae64803893f8d4514da4a16"
      }
     },
     "metadata": {},
     "output_type": "display_data"
    },
    {
     "data": {
      "text/plain": "  0%|          | 0/479 [00:00<?, ?it/s]",
      "application/vnd.jupyter.widget-view+json": {
       "version_major": 2,
       "version_minor": 0,
       "model_id": "f7ca29b86d4c4c24bc44a7930d174517"
      }
     },
     "metadata": {},
     "output_type": "display_data"
    },
    {
     "name": "stderr",
     "output_type": "stream",
     "text": [
      "/tmp/ipykernel_664/3675266627.py:30: FutureWarning: The frame.append method is deprecated and will be removed from pandas in a future version. Use pandas.concat instead.\n",
      "  df = df.append(tmp)\n"
     ]
    },
    {
     "data": {
      "text/plain": "  0%|          | 0/475 [00:00<?, ?it/s]",
      "application/vnd.jupyter.widget-view+json": {
       "version_major": 2,
       "version_minor": 0,
       "model_id": "9a95c51d937542779294647e8648dee1"
      }
     },
     "metadata": {},
     "output_type": "display_data"
    },
    {
     "name": "stderr",
     "output_type": "stream",
     "text": [
      "/tmp/ipykernel_664/3675266627.py:30: FutureWarning: The frame.append method is deprecated and will be removed from pandas in a future version. Use pandas.concat instead.\n",
      "  df = df.append(tmp)\n"
     ]
    },
    {
     "data": {
      "text/plain": "  0%|          | 0/645 [00:00<?, ?it/s]",
      "application/vnd.jupyter.widget-view+json": {
       "version_major": 2,
       "version_minor": 0,
       "model_id": "545d73012e114d3a8d48814cc487c12e"
      }
     },
     "metadata": {},
     "output_type": "display_data"
    },
    {
     "name": "stderr",
     "output_type": "stream",
     "text": [
      "/tmp/ipykernel_664/3675266627.py:30: FutureWarning: The frame.append method is deprecated and will be removed from pandas in a future version. Use pandas.concat instead.\n",
      "  df = df.append(tmp)\n"
     ]
    },
    {
     "data": {
      "text/plain": "  0%|          | 0/1588 [00:00<?, ?it/s]",
      "application/vnd.jupyter.widget-view+json": {
       "version_major": 2,
       "version_minor": 0,
       "model_id": "6fa7802fc2ed435bbbd4a19ffbffd762"
      }
     },
     "metadata": {},
     "output_type": "display_data"
    },
    {
     "name": "stderr",
     "output_type": "stream",
     "text": [
      "/tmp/ipykernel_664/3675266627.py:30: FutureWarning: The frame.append method is deprecated and will be removed from pandas in a future version. Use pandas.concat instead.\n",
      "  df = df.append(tmp)\n"
     ]
    },
    {
     "data": {
      "text/plain": "  0%|          | 0/708 [00:00<?, ?it/s]",
      "application/vnd.jupyter.widget-view+json": {
       "version_major": 2,
       "version_minor": 0,
       "model_id": "e36a39fdbf204ace97032037ea64c94f"
      }
     },
     "metadata": {},
     "output_type": "display_data"
    },
    {
     "name": "stderr",
     "output_type": "stream",
     "text": [
      "/tmp/ipykernel_664/3675266627.py:30: FutureWarning: The frame.append method is deprecated and will be removed from pandas in a future version. Use pandas.concat instead.\n",
      "  df = df.append(tmp)\n"
     ]
    },
    {
     "data": {
      "text/plain": "  0%|          | 0/516 [00:00<?, ?it/s]",
      "application/vnd.jupyter.widget-view+json": {
       "version_major": 2,
       "version_minor": 0,
       "model_id": "0bf1827b98d549a18e56ad25081b7ece"
      }
     },
     "metadata": {},
     "output_type": "display_data"
    },
    {
     "name": "stderr",
     "output_type": "stream",
     "text": [
      "/tmp/ipykernel_664/3675266627.py:30: FutureWarning: The frame.append method is deprecated and will be removed from pandas in a future version. Use pandas.concat instead.\n",
      "  df = df.append(tmp)\n"
     ]
    },
    {
     "data": {
      "text/plain": "  0%|          | 0/525 [00:00<?, ?it/s]",
      "application/vnd.jupyter.widget-view+json": {
       "version_major": 2,
       "version_minor": 0,
       "model_id": "d947a2a6a28c4e6a93418c1918737cd1"
      }
     },
     "metadata": {},
     "output_type": "display_data"
    },
    {
     "name": "stderr",
     "output_type": "stream",
     "text": [
      "/tmp/ipykernel_664/3675266627.py:30: FutureWarning: The frame.append method is deprecated and will be removed from pandas in a future version. Use pandas.concat instead.\n",
      "  df = df.append(tmp)\n"
     ]
    },
    {
     "name": "stdout",
     "output_type": "stream",
     "text": [
      "Epoch 0/18\n",
      "----------\n",
      "train Loss: 3.9130 Acc: 0.1142\n",
      "val Loss: 3.5686 Acc: 0.0958\n",
      "\n",
      "Epoch 1/18\n",
      "----------\n",
      "train Loss: 3.2906 Acc: 0.1755\n",
      "val Loss: 3.6218 Acc: 0.0967\n",
      "\n",
      "Epoch 2/18\n",
      "----------\n",
      "train Loss: 3.1605 Acc: 0.1902\n",
      "val Loss: 3.4882 Acc: 0.0915\n",
      "\n",
      "Epoch 3/18\n",
      "----------\n",
      "train Loss: 3.0462 Acc: 0.2018\n",
      "val Loss: 3.4724 Acc: 0.1445\n",
      "\n",
      "Epoch 4/18\n",
      "----------\n",
      "train Loss: 2.9918 Acc: 0.2199\n",
      "val Loss: 3.9922 Acc: 0.0811\n",
      "\n",
      "Epoch 5/18\n",
      "----------\n",
      "train Loss: 2.9029 Acc: 0.2346\n",
      "val Loss: 3.4376 Acc: 0.1047\n",
      "\n",
      "Epoch 6/18\n",
      "----------\n",
      "train Loss: 2.8328 Acc: 0.2583\n",
      "val Loss: 3.3309 Acc: 0.1567\n",
      "\n",
      "Epoch 7/18\n",
      "----------\n",
      "train Loss: 2.7399 Acc: 0.2739\n",
      "val Loss: 3.4408 Acc: 0.1552\n",
      "\n",
      "Epoch 8/18\n",
      "----------\n",
      "train Loss: 2.7195 Acc: 0.2832\n",
      "val Loss: 3.9502 Acc: 0.0970\n",
      "\n",
      "Epoch 9/18\n",
      "----------\n",
      "train Loss: 2.7083 Acc: 0.2829\n",
      "val Loss: 3.7782 Acc: 0.0943\n",
      "\n",
      "Epoch 10/18\n",
      "----------\n",
      "train Loss: 2.7105 Acc: 0.2807\n",
      "val Loss: 4.0155 Acc: 0.0998\n",
      "\n",
      "Epoch 11/18\n",
      "----------\n",
      "train Loss: 2.6923 Acc: 0.2826\n",
      "val Loss: 3.5627 Acc: 0.1463\n",
      "\n",
      "Epoch 12/18\n",
      "----------\n",
      "train Loss: 2.6830 Acc: 0.2858\n",
      "val Loss: 3.4520 Acc: 0.1680\n",
      "\n",
      "Epoch 13/18\n",
      "----------\n",
      "train Loss: 2.6753 Acc: 0.2849\n",
      "val Loss: 3.5632 Acc: 0.1500\n",
      "\n",
      "Epoch 14/18\n",
      "----------\n",
      "train Loss: 2.6602 Acc: 0.2951\n",
      "val Loss: 3.5003 Acc: 0.1417\n",
      "\n",
      "Epoch 15/18\n",
      "----------\n",
      "train Loss: 2.6612 Acc: 0.2979\n",
      "val Loss: 3.1156 Acc: 0.2039\n",
      "\n",
      "Epoch 16/18\n",
      "----------\n",
      "train Loss: 2.6604 Acc: 0.2996\n",
      "val Loss: 3.1230 Acc: 0.2045\n",
      "\n",
      "Epoch 17/18\n",
      "----------\n",
      "train Loss: 2.6699 Acc: 0.2920\n",
      "val Loss: 3.2155 Acc: 0.1947\n",
      "\n",
      "Epoch 18/18\n",
      "----------\n",
      "train Loss: 2.6636 Acc: 0.2956\n",
      "val Loss: 3.1096 Acc: 0.2097\n",
      "\n",
      "Training complete in 6m 38s\n",
      "Best val Acc: 0.209672\n"
     ]
    },
    {
     "data": {
      "text/plain": "  0%|          | 0/781 [00:00<?, ?it/s]",
      "application/vnd.jupyter.widget-view+json": {
       "version_major": 2,
       "version_minor": 0,
       "model_id": "e528e39b95b44e1daf39f99612075c0c"
      }
     },
     "metadata": {},
     "output_type": "display_data"
    },
    {
     "data": {
      "text/plain": "  0%|          | 0/669 [00:00<?, ?it/s]",
      "application/vnd.jupyter.widget-view+json": {
       "version_major": 2,
       "version_minor": 0,
       "model_id": "535e84325f304d559f2e8189ee962a03"
      }
     },
     "metadata": {},
     "output_type": "display_data"
    },
    {
     "data": {
      "text/plain": "  0%|          | 0/419 [00:00<?, ?it/s]",
      "application/vnd.jupyter.widget-view+json": {
       "version_major": 2,
       "version_minor": 0,
       "model_id": "c6a045fef5ef4330bd688e5e787aceca"
      }
     },
     "metadata": {},
     "output_type": "display_data"
    },
    {
     "data": {
      "text/plain": "  0%|          | 0/479 [00:00<?, ?it/s]",
      "application/vnd.jupyter.widget-view+json": {
       "version_major": 2,
       "version_minor": 0,
       "model_id": "e35d4bb08f25404892415c80f37a7d9c"
      }
     },
     "metadata": {},
     "output_type": "display_data"
    },
    {
     "data": {
      "text/plain": "  0%|          | 0/475 [00:00<?, ?it/s]",
      "application/vnd.jupyter.widget-view+json": {
       "version_major": 2,
       "version_minor": 0,
       "model_id": "8abb6443c27b47c7a0e8b55f9ea49903"
      }
     },
     "metadata": {},
     "output_type": "display_data"
    },
    {
     "data": {
      "text/plain": "  0%|          | 0/645 [00:00<?, ?it/s]",
      "application/vnd.jupyter.widget-view+json": {
       "version_major": 2,
       "version_minor": 0,
       "model_id": "ece5ae25aa874fc3ad8b4e5c0c359b99"
      }
     },
     "metadata": {},
     "output_type": "display_data"
    },
    {
     "data": {
      "text/plain": "  0%|          | 0/1588 [00:00<?, ?it/s]",
      "application/vnd.jupyter.widget-view+json": {
       "version_major": 2,
       "version_minor": 0,
       "model_id": "77eee1cba217469087989d4b923d07a4"
      }
     },
     "metadata": {},
     "output_type": "display_data"
    },
    {
     "data": {
      "text/plain": "  0%|          | 0/708 [00:00<?, ?it/s]",
      "application/vnd.jupyter.widget-view+json": {
       "version_major": 2,
       "version_minor": 0,
       "model_id": "8770ef6ce37748a3b5672c645d167f55"
      }
     },
     "metadata": {},
     "output_type": "display_data"
    },
    {
     "data": {
      "text/plain": "  0%|          | 0/516 [00:00<?, ?it/s]",
      "application/vnd.jupyter.widget-view+json": {
       "version_major": 2,
       "version_minor": 0,
       "model_id": "715a68934e184b5bafc2ae384eaf09fc"
      }
     },
     "metadata": {},
     "output_type": "display_data"
    },
    {
     "data": {
      "text/plain": "  0%|          | 0/525 [00:00<?, ?it/s]",
      "application/vnd.jupyter.widget-view+json": {
       "version_major": 2,
       "version_minor": 0,
       "model_id": "31b937d31e5d4661b77358ae4036fda4"
      }
     },
     "metadata": {},
     "output_type": "display_data"
    },
    {
     "data": {
      "text/plain": "  0%|          | 0/781 [00:00<?, ?it/s]",
      "application/vnd.jupyter.widget-view+json": {
       "version_major": 2,
       "version_minor": 0,
       "model_id": "ff6150001a8844e3995d118550098b95"
      }
     },
     "metadata": {},
     "output_type": "display_data"
    },
    {
     "name": "stderr",
     "output_type": "stream",
     "text": [
      "/tmp/ipykernel_664/3675266627.py:30: FutureWarning: The frame.append method is deprecated and will be removed from pandas in a future version. Use pandas.concat instead.\n",
      "  df = df.append(tmp)\n"
     ]
    },
    {
     "data": {
      "text/plain": "  0%|          | 0/669 [00:00<?, ?it/s]",
      "application/vnd.jupyter.widget-view+json": {
       "version_major": 2,
       "version_minor": 0,
       "model_id": "da7b9da542fe41f59d204b8546cca6dd"
      }
     },
     "metadata": {},
     "output_type": "display_data"
    },
    {
     "data": {
      "text/plain": "  0%|          | 0/419 [00:00<?, ?it/s]",
      "application/vnd.jupyter.widget-view+json": {
       "version_major": 2,
       "version_minor": 0,
       "model_id": "dc2743ee2812474f909763abe662e15b"
      }
     },
     "metadata": {},
     "output_type": "display_data"
    },
    {
     "data": {
      "text/plain": "  0%|          | 0/479 [00:00<?, ?it/s]",
      "application/vnd.jupyter.widget-view+json": {
       "version_major": 2,
       "version_minor": 0,
       "model_id": "c8afceb0270e4d7bb932a07193f9ff77"
      }
     },
     "metadata": {},
     "output_type": "display_data"
    },
    {
     "name": "stderr",
     "output_type": "stream",
     "text": [
      "/tmp/ipykernel_664/3675266627.py:30: FutureWarning: The frame.append method is deprecated and will be removed from pandas in a future version. Use pandas.concat instead.\n",
      "  df = df.append(tmp)\n"
     ]
    },
    {
     "data": {
      "text/plain": "  0%|          | 0/475 [00:00<?, ?it/s]",
      "application/vnd.jupyter.widget-view+json": {
       "version_major": 2,
       "version_minor": 0,
       "model_id": "f8c76c9e0e3c403a845142de449f46e5"
      }
     },
     "metadata": {},
     "output_type": "display_data"
    },
    {
     "name": "stderr",
     "output_type": "stream",
     "text": [
      "/tmp/ipykernel_664/3675266627.py:30: FutureWarning: The frame.append method is deprecated and will be removed from pandas in a future version. Use pandas.concat instead.\n",
      "  df = df.append(tmp)\n"
     ]
    },
    {
     "data": {
      "text/plain": "  0%|          | 0/645 [00:00<?, ?it/s]",
      "application/vnd.jupyter.widget-view+json": {
       "version_major": 2,
       "version_minor": 0,
       "model_id": "816a006a9eeb4fe8923b76dff83fae9b"
      }
     },
     "metadata": {},
     "output_type": "display_data"
    },
    {
     "name": "stderr",
     "output_type": "stream",
     "text": [
      "/tmp/ipykernel_664/3675266627.py:30: FutureWarning: The frame.append method is deprecated and will be removed from pandas in a future version. Use pandas.concat instead.\n",
      "  df = df.append(tmp)\n"
     ]
    },
    {
     "data": {
      "text/plain": "  0%|          | 0/1588 [00:00<?, ?it/s]",
      "application/vnd.jupyter.widget-view+json": {
       "version_major": 2,
       "version_minor": 0,
       "model_id": "b3d62ae391ba461e98612b871a5fe24e"
      }
     },
     "metadata": {},
     "output_type": "display_data"
    },
    {
     "name": "stderr",
     "output_type": "stream",
     "text": [
      "/tmp/ipykernel_664/3675266627.py:30: FutureWarning: The frame.append method is deprecated and will be removed from pandas in a future version. Use pandas.concat instead.\n",
      "  df = df.append(tmp)\n"
     ]
    },
    {
     "data": {
      "text/plain": "  0%|          | 0/708 [00:00<?, ?it/s]",
      "application/vnd.jupyter.widget-view+json": {
       "version_major": 2,
       "version_minor": 0,
       "model_id": "8bff8f8b6d3345ec969463672a4b3dfb"
      }
     },
     "metadata": {},
     "output_type": "display_data"
    },
    {
     "name": "stderr",
     "output_type": "stream",
     "text": [
      "/tmp/ipykernel_664/3675266627.py:30: FutureWarning: The frame.append method is deprecated and will be removed from pandas in a future version. Use pandas.concat instead.\n",
      "  df = df.append(tmp)\n"
     ]
    },
    {
     "data": {
      "text/plain": "  0%|          | 0/516 [00:00<?, ?it/s]",
      "application/vnd.jupyter.widget-view+json": {
       "version_major": 2,
       "version_minor": 0,
       "model_id": "64cf50b172f94efa92510b90682c95f8"
      }
     },
     "metadata": {},
     "output_type": "display_data"
    },
    {
     "name": "stderr",
     "output_type": "stream",
     "text": [
      "/tmp/ipykernel_664/3675266627.py:30: FutureWarning: The frame.append method is deprecated and will be removed from pandas in a future version. Use pandas.concat instead.\n",
      "  df = df.append(tmp)\n"
     ]
    },
    {
     "data": {
      "text/plain": "  0%|          | 0/525 [00:00<?, ?it/s]",
      "application/vnd.jupyter.widget-view+json": {
       "version_major": 2,
       "version_minor": 0,
       "model_id": "7a267e63ab5a4a668b668b4ccd268c5c"
      }
     },
     "metadata": {},
     "output_type": "display_data"
    },
    {
     "name": "stderr",
     "output_type": "stream",
     "text": [
      "/tmp/ipykernel_664/3675266627.py:30: FutureWarning: The frame.append method is deprecated and will be removed from pandas in a future version. Use pandas.concat instead.\n",
      "  df = df.append(tmp)\n"
     ]
    },
    {
     "name": "stdout",
     "output_type": "stream",
     "text": [
      "[3, 5, 7, 10, 14, 20, 29, 42, 61, 87]\n",
      "[0.61799816 0.61524334 0.59075605 0.53933272 0.50137741 0.48943985\n",
      " 0.34955617 0.29445975 0.28344047 0.20967248]\n"
     ]
    }
   ],
   "source": [
    "#n_components = np.logspace(1,3, 10, base=5, dtype=int)\n",
    "n_components = [3, 5, 7, 10, 14, 20, 29, 42, 61, 87]\n",
    "optimize_clusters(X,y, preprocess, n_components, GMM)"
   ],
   "metadata": {
    "collapsed": false
   }
  },
  {
   "cell_type": "code",
   "execution_count": null,
   "outputs": [],
   "source": [],
   "metadata": {
    "collapsed": false
   }
  }
 ],
 "metadata": {
  "kernelspec": {
   "display_name": "Python 3.9.7 ('base')",
   "language": "python",
   "name": "python3"
  },
  "language_info": {
   "codemirror_mode": {
    "name": "ipython",
    "version": 3
   },
   "file_extension": ".py",
   "mimetype": "text/x-python",
   "name": "python",
   "nbconvert_exporter": "python",
   "pygments_lexer": "ipython3",
   "version": "3.9.7"
  },
  "orig_nbformat": 4,
  "vscode": {
   "interpreter": {
    "hash": "77ede9bdf46c5adcf6478d95ca4f2bb8e38b93f4a51397471ccd99549851b404"
   }
  }
 },
 "nbformat": 4,
 "nbformat_minor": 2
}
