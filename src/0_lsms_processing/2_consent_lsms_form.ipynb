{
 "cells": [
  {
   "cell_type": "markdown",
   "metadata": {},
   "source": [
    "# Download LSMS\n",
    "This repo helps you to download the LSMS data. It still requires manual work, but reduces it. "
   ]
  },
  {
   "cell_type": "code",
   "execution_count": 1,
   "metadata": {},
   "outputs": [],
   "source": [
    "from bs4 import BeautifulSoup\n",
    "from tqdm import tqdm\n",
    "\n",
    "import json\n",
    "import os\n",
    "import pandas as pd\n",
    "import re\n",
    "import requests"
   ]
  },
  {
   "cell_type": "code",
   "execution_count": 2,
   "metadata": {},
   "outputs": [],
   "source": [
    "df: pd.DataFrame = pd.read_csv(\"../../data/countries_meta/counties_lsms_time_valid.csv\")"
   ]
  },
  {
   "cell_type": "markdown",
   "metadata": {},
   "source": [
    "You have to specify you World Bank login data in the accounts json, or just remove the following block and hard code you data in the block after. Please be careful to not push it to a public repository or to one which you will make once public.\n",
    "\n",
    "The json file should lay on the top level of the project."
   ]
  },
  {
   "cell_type": "code",
   "execution_count": 3,
   "metadata": {},
   "outputs": [
    {
     "ename": "FileNotFoundError",
     "evalue": "[Errno 2] No such file or directory: '../../accounts.json'",
     "output_type": "error",
     "traceback": [
      "\u001B[0;31m---------------------------------------------------------------------------\u001B[0m",
      "\u001B[0;31mFileNotFoundError\u001B[0m                         Traceback (most recent call last)",
      "Cell \u001B[0;32mIn[3], line 1\u001B[0m\n\u001B[0;32m----> 1\u001B[0m \u001B[38;5;28;01mwith\u001B[39;00m \u001B[38;5;28;43mopen\u001B[39;49m\u001B[43m(\u001B[49m\u001B[38;5;124;43m\"\u001B[39;49m\u001B[38;5;124;43m../../accounts.json\u001B[39;49m\u001B[38;5;124;43m\"\u001B[39;49m\u001B[43m,\u001B[49m\u001B[43m \u001B[49m\u001B[38;5;124;43m\"\u001B[39;49m\u001B[38;5;124;43mr\u001B[39;49m\u001B[38;5;124;43m\"\u001B[39;49m\u001B[43m)\u001B[49m \u001B[38;5;28;01mas\u001B[39;00m f:\n\u001B[1;32m      2\u001B[0m     auth_data: \u001B[38;5;28many\u001B[39m \u001B[38;5;241m=\u001B[39m json\u001B[38;5;241m.\u001B[39mload(f)\n",
      "File \u001B[0;32m~/miniconda3/envs/predicting-poverty-through-time/lib/python3.10/site-packages/IPython/core/interactiveshell.py:282\u001B[0m, in \u001B[0;36m_modified_open\u001B[0;34m(file, *args, **kwargs)\u001B[0m\n\u001B[1;32m    275\u001B[0m \u001B[38;5;28;01mif\u001B[39;00m file \u001B[38;5;129;01min\u001B[39;00m {\u001B[38;5;241m0\u001B[39m, \u001B[38;5;241m1\u001B[39m, \u001B[38;5;241m2\u001B[39m}:\n\u001B[1;32m    276\u001B[0m     \u001B[38;5;28;01mraise\u001B[39;00m \u001B[38;5;167;01mValueError\u001B[39;00m(\n\u001B[1;32m    277\u001B[0m         \u001B[38;5;124mf\u001B[39m\u001B[38;5;124m\"\u001B[39m\u001B[38;5;124mIPython won\u001B[39m\u001B[38;5;124m'\u001B[39m\u001B[38;5;124mt let you open fd=\u001B[39m\u001B[38;5;132;01m{\u001B[39;00mfile\u001B[38;5;132;01m}\u001B[39;00m\u001B[38;5;124m by default \u001B[39m\u001B[38;5;124m\"\u001B[39m\n\u001B[1;32m    278\u001B[0m         \u001B[38;5;124m\"\u001B[39m\u001B[38;5;124mas it is likely to crash IPython. If you know what you are doing, \u001B[39m\u001B[38;5;124m\"\u001B[39m\n\u001B[1;32m    279\u001B[0m         \u001B[38;5;124m\"\u001B[39m\u001B[38;5;124myou can use builtins\u001B[39m\u001B[38;5;124m'\u001B[39m\u001B[38;5;124m open.\u001B[39m\u001B[38;5;124m\"\u001B[39m\n\u001B[1;32m    280\u001B[0m     )\n\u001B[0;32m--> 282\u001B[0m \u001B[38;5;28;01mreturn\u001B[39;00m \u001B[43mio_open\u001B[49m\u001B[43m(\u001B[49m\u001B[43mfile\u001B[49m\u001B[43m,\u001B[49m\u001B[43m \u001B[49m\u001B[38;5;241;43m*\u001B[39;49m\u001B[43margs\u001B[49m\u001B[43m,\u001B[49m\u001B[43m \u001B[49m\u001B[38;5;241;43m*\u001B[39;49m\u001B[38;5;241;43m*\u001B[39;49m\u001B[43mkwargs\u001B[49m\u001B[43m)\u001B[49m\n",
      "\u001B[0;31mFileNotFoundError\u001B[0m: [Errno 2] No such file or directory: '../../accounts.json'"
     ]
    }
   ],
   "source": [
    "with open(\"../../accounts.json\", \"r\") as f:\n",
    "    auth_data: any = json.load(f)"
   ]
  },
  {
   "cell_type": "code",
   "execution_count": 5,
   "metadata": {},
   "outputs": [],
   "source": [
    "user: str = \"alex.sallinen@gmail.com\"\n",
    "pw: str = \"3XZchze*g7Cow^\""
   ]
  },
  {
   "cell_type": "markdown",
   "metadata": {},
   "source": [
    "Perform Login"
   ]
  },
  {
   "cell_type": "code",
   "execution_count": 6,
   "metadata": {},
   "outputs": [],
   "source": [
    "def login(session: requests.Session, user: str, pw: str) -> None:\n",
    "    \"\"\"Performs the login.\n",
    "\n",
    "    Args:\n",
    "        session (requests.Session): Session\n",
    "        user (str): Username\n",
    "        pw (str): Password\n",
    "    \"\"\"\n",
    "    login_url: str = \"https://microdata.worldbank.org/index.php/auth/login\"\n",
    "    login_params: dict[str] = {\n",
    "        \"email\": user,\n",
    "        \"password\": pw,\n",
    "        \"submit\": \"Login\"\n",
    "    }\n",
    "    session.post(login_url, data=login_params)"
   ]
  },
  {
   "cell_type": "code",
   "execution_count": 7,
   "metadata": {},
   "outputs": [],
   "source": [
    "session: requests.Session = requests.Session()\n",
    "login(session, user, pw)"
   ]
  },
  {
   "cell_type": "markdown",
   "metadata": {},
   "source": [
    "Consent"
   ]
  },
  {
   "cell_type": "code",
   "execution_count": 8,
   "metadata": {},
   "outputs": [
    {
     "name": "stderr",
     "output_type": "stream",
     "text": [
      "100%|██████████| 74/74 [00:54<00:00,  1.37it/s]\n"
     ]
    }
   ],
   "source": [
    "for _, row in tqdm(df.iterrows(), total=len(df)):\n",
    "    url: str = row[\"url\"]\n",
    "    surveyid: str = url.split(\"/\")[-1]\n",
    "    res: any = session.get(url + \"/get-microdata\").content\n",
    "    soup: any = BeautifulSoup(res)\n",
    "    surveytitle: str = soup.find(\"h1\", {\"id\": \"dataset-title\"}).span.text\n",
    "    submitparam: dict[str] = {\n",
    "        \"surveytitle\": surveytitle,\n",
    "        \"surveyid\": surveyid,\n",
    "        \"id\": \"\",\n",
    "        \"abstract\": \"Research project to predict poverty.\",\n",
    "        \"chk_agree\": \"on\",\n",
    "        \"submit\": \"Submit\"\n",
    "    }\n",
    "\n",
    "    session.post(url + \"/get-microdata\", data=submitparam)\n"
   ]
  },
  {
   "cell_type": "markdown",
   "metadata": {},
   "source": [
    "Download (it is working). You have to check for false positives in the end anyways. Just to reduce the click work."
   ]
  },
  {
   "cell_type": "code",
   "execution_count": 9,
   "metadata": {},
   "outputs": [
    {
     "name": "stderr",
     "output_type": "stream",
     "text": [
      " 15%|█▍        | 11/74 [01:44<09:48,  9.35s/it]"
     ]
    },
    {
     "name": "stdout",
     "output_type": "stream",
     "text": [
      "https://microdata.worldbank.org/index.php/catalog/2331\n"
     ]
    },
    {
     "name": "stderr",
     "output_type": "stream",
     "text": [
      " 18%|█▊        | 13/74 [01:46<05:18,  5.23s/it]"
     ]
    },
    {
     "name": "stdout",
     "output_type": "stream",
     "text": [
      "https://microdata.worldbank.org/index.php/catalog/2315\n"
     ]
    },
    {
     "name": "stderr",
     "output_type": "stream",
     "text": [
      " 20%|██        | 15/74 [01:48<03:04,  3.13s/it]"
     ]
    },
    {
     "name": "stdout",
     "output_type": "stream",
     "text": [
      "https://microdata.worldbank.org/index.php/catalog/2314\n"
     ]
    },
    {
     "name": "stderr",
     "output_type": "stream",
     "text": [
      " 22%|██▏       | 16/74 [01:49<02:17,  2.37s/it]"
     ]
    },
    {
     "name": "stdout",
     "output_type": "stream",
     "text": [
      "https://microdata.worldbank.org/index.php/catalog/2313\n"
     ]
    },
    {
     "name": "stderr",
     "output_type": "stream",
     "text": [
      " 28%|██▊       | 21/74 [03:00<13:19, 15.09s/it]"
     ]
    },
    {
     "name": "stdout",
     "output_type": "stream",
     "text": [
      "https://microdata.worldbank.org/index.php/catalog/3016\n"
     ]
    },
    {
     "name": "stderr",
     "output_type": "stream",
     "text": [
      " 61%|██████    | 45/74 [07:04<03:47,  7.86s/it]"
     ]
    },
    {
     "name": "stdout",
     "output_type": "stream",
     "text": [
      "https://microdata.worldbank.org/index.php/catalog/3062\n"
     ]
    },
    {
     "name": "stderr",
     "output_type": "stream",
     "text": [
      " 62%|██████▏   | 46/74 [07:05<02:39,  5.69s/it]"
     ]
    },
    {
     "name": "stdout",
     "output_type": "stream",
     "text": [
      "https://microdata.worldbank.org/index.php/catalog/2882\n"
     ]
    },
    {
     "name": "stderr",
     "output_type": "stream",
     "text": [
      " 64%|██████▎   | 47/74 [07:05<01:52,  4.17s/it]"
     ]
    },
    {
     "name": "stdout",
     "output_type": "stream",
     "text": [
      "https://microdata.worldbank.org/index.php/catalog/1576\n"
     ]
    },
    {
     "name": "stderr",
     "output_type": "stream",
     "text": [
      " 65%|██████▍   | 48/74 [07:06<01:20,  3.11s/it]"
     ]
    },
    {
     "name": "stdout",
     "output_type": "stream",
     "text": [
      "https://microdata.worldbank.org/index.php/catalog/297\n"
     ]
    },
    {
     "name": "stderr",
     "output_type": "stream",
     "text": [
      " 66%|██████▌   | 49/74 [07:07<00:59,  2.37s/it]"
     ]
    },
    {
     "name": "stdout",
     "output_type": "stream",
     "text": [
      "https://microdata.worldbank.org/index.php/catalog/902\n"
     ]
    },
    {
     "name": "stderr",
     "output_type": "stream",
     "text": [
      "100%|██████████| 74/74 [09:57<00:00,  8.07s/it]\n"
     ]
    }
   ],
   "source": [
    "regex_csv: re.Pattern = re.compile(\".*CSV.*\")\n",
    "regex_spss: re.Pattern = re.compile(\".*SPSS.\")\n",
    "for _, row in tqdm(df.iterrows(), total=len(df)):\n",
    "    path = f\"../../data/lsms/raw/{row['name']}/{row['year']}\"\n",
    "    if not os.path.exists(path):\n",
    "        os.makedirs(path)\n",
    "    url: str = row[\"url\"]\n",
    "    res: requests.Response = session.get(url + \"/get-microdata\").content\n",
    "    soup: any = BeautifulSoup(res)\n",
    "    if \"Terms and conditions\" in [x.text for x in soup.findAll(\"h1\")]:\n",
    "        data: dict[str] = {\n",
    "            \"accept\": \"Accept\"\n",
    "        }\n",
    "        res = session.post(url + \"/get-microdata\", data=data).content\n",
    "        soup = BeautifulSoup(res)\n",
    "    try:\n",
    "        if soup.find(\"a\", {\"data-filename\": regex_csv}) == None:\n",
    "            regex = regex_spss\n",
    "        else:\n",
    "            regex = regex_csv\n",
    "        href: any = soup.find(\"a\", {\"data-filename\": regex})[\"href\"]\n",
    "        title: any = soup.find(\"a\", {\"data-filename\": regex})[\"title\"]\n",
    "\n",
    "        if os.path.exists(f\"{path}/{title}\"):\n",
    "            continue\n",
    "        res = session.get(href)\n",
    "        with open(f\"{path}/{title}\", \"wb\") as f:\n",
    "            f.write(res.content)\n",
    "    except:\n",
    "        print(url) # for manual work\n",
    "        login(session, user, pw)"
   ]
  },
  {
   "cell_type": "markdown",
   "metadata": {},
   "source": [
    "The following are missing and require manual work.:\n",
    "- [Ghana 1999](https://microdata.worldbank.org/index.php/catalog/2331): Data hosted on gov. server\n",
    "- [Ghana 1992](https://microdata.worldbank.org/index.php/catalog/2315): Data hosted on gov. server\n",
    "- [Ghana 1989](https://microdata.worldbank.org/index.php/catalog/2314): Data hosted on gov. server\n",
    "- [Ghana 1988](https://microdata.worldbank.org/index.php/catalog/2313): Data hosted on gov. server\n",
    "- [Malawi 2011](https://microdata.worldbank.org/index.php/catalog/3016): Other Term and No CSV\n",
    "- [South Africa 2015](https://microdata.worldbank.org/index.php/catalog/3062): Terms by worldbank\n",
    "- [South Africa 2015](https://microdata.worldbank.org/index.php/catalog/2882): Data hosted on gov. server\n",
    "- [South Africa 1999](https://microdata.worldbank.org/index.php/catalog/1576): Data hosted on gov. server\n",
    "- [South Africa 1993](https://microdata.worldbank.org/index.php/catalog/297): No CSV, or SPSS\n",
    "- [South Africa 1993](https://microdata.worldbank.org/index.php/catalog/902): Data hosted on gov. server"
   ]
  }
 ],
 "metadata": {
  "kernelspec": {
   "display_name": "Python 3.9.12 64-bit",
   "language": "python",
   "name": "python3"
  },
  "language_info": {
   "codemirror_mode": {
    "name": "ipython",
    "version": 3
   },
   "file_extension": ".py",
   "mimetype": "text/x-python",
   "name": "python",
   "nbconvert_exporter": "python",
   "pygments_lexer": "ipython3",
   "version": "3.9.12"
  },
  "orig_nbformat": 4,
  "vscode": {
   "interpreter": {
    "hash": "b0fa6594d8f4cbf19f97940f81e996739fb7646882a419484c72d19e05852a7e"
   }
  }
 },
 "nbformat": 4,
 "nbformat_minor": 2
}
